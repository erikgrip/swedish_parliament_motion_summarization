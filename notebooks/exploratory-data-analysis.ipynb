{
 "cells": [
  {
   "cell_type": "markdown",
   "id": "a43587bf-8bc6-46ce-9345-fc1691e99498",
   "metadata": {},
   "source": [
    "# Exploratory data analysis"
   ]
  },
  {
   "cell_type": "code",
   "execution_count": 2,
   "id": "c77d35f0-47b5-4f9c-bcb0-002049e5fdfe",
   "metadata": {},
   "outputs": [],
   "source": [
    "from datetime import datetime as dt\n",
    "import sys\n",
    "import warnings\n",
    "\n",
    "import matplotlib.pyplot as plt\n",
    "import pandas as pd\n",
    "import seaborn as sns\n",
    "\n",
    "sys.path.append('../..')  # Allow import of project packages\n",
    "from utils.text import (\n",
    "    trim_motion_text_by_subtitle,\n",
    "    trim_leadning_motivation,\n",
    "    trim_linebreaks,\n",
    "    trim_motion_text_by_proposed_decision,\n",
    "    trim_motion_text_by_leading_title,\n",
    "    trim_whitespace,\n",
    "    set_empty_when_leading_date,\n",
    "    delete_footer\n",
    ")\n",
    "\n",
    "warnings.filterwarnings('ignore')\n",
    "pd.set_option('display.max_colwidth', 500)\n",
    "\n",
    "RANDOM_STATE = 1\n",
    "DATA_PATH = \"../../data/downloaded/raw_swe_parl_mot.pkl\""
   ]
  },
  {
   "cell_type": "markdown",
   "id": "fef966a6-cf21-4784-aedc-82c663413120",
   "metadata": {},
   "source": [
    "### Load Data"
   ]
  },
  {
   "cell_type": "code",
   "execution_count": 3,
   "id": "565ad6bf-f265-49de-ad47-f87629a65f00",
   "metadata": {},
   "outputs": [
    {
     "name": "stdout",
     "output_type": "stream",
     "text": [
      "<class 'pandas.core.frame.DataFrame'>\n",
      "RangeIndex: 167782 entries, 0 to 167781\n",
      "Data columns (total 8 columns):\n",
      " #   Column        Non-Null Count   Dtype \n",
      "---  ------        --------------   ----- \n",
      " 0   id            167782 non-null  object\n",
      " 1   date          167782 non-null  object\n",
      " 2   file_date     167782 non-null  object\n",
      " 3   title         167782 non-null  object\n",
      " 4   subtitle      167256 non-null  object\n",
      " 5   text          167782 non-null  object\n",
      " 6   main_author   167781 non-null  object\n",
      " 7   author_party  167689 non-null  object\n",
      "dtypes: object(8)\n",
      "memory usage: 10.2+ MB\n"
     ]
    },
    {
     "data": {
      "text/plain": [
       "None"
      ]
     },
     "metadata": {},
     "output_type": "display_data"
    }
   ],
   "source": [
    "raw = pd.DataFrame(pd.read_pickle(DATA_PATH))\n",
    "display(raw.info())\n",
    "\n",
    "df = raw.copy()\n",
    "df['date'] = pd.to_datetime(df['date'])\n",
    "df['file_date'] = pd.to_datetime(df['file_date'])"
   ]
  },
  {
   "cell_type": "markdown",
   "id": "c3870a4c",
   "metadata": {},
   "source": [
    "### Describe data"
   ]
  },
  {
   "cell_type": "code",
   "execution_count": 4,
   "id": "766d521a-5a26-4216-9c0c-646db48af031",
   "metadata": {},
   "outputs": [
    {
     "data": {
      "text/html": [
       "<div>\n",
       "<style scoped>\n",
       "    .dataframe tbody tr th:only-of-type {\n",
       "        vertical-align: middle;\n",
       "    }\n",
       "\n",
       "    .dataframe tbody tr th {\n",
       "        vertical-align: top;\n",
       "    }\n",
       "\n",
       "    .dataframe thead th {\n",
       "        text-align: right;\n",
       "    }\n",
       "</style>\n",
       "<table border=\"1\" class=\"dataframe\">\n",
       "  <thead>\n",
       "    <tr style=\"text-align: right;\">\n",
       "      <th></th>\n",
       "      <th>id</th>\n",
       "      <th>date</th>\n",
       "      <th>file_date</th>\n",
       "      <th>title</th>\n",
       "      <th>subtitle</th>\n",
       "      <th>text</th>\n",
       "      <th>main_author</th>\n",
       "      <th>author_party</th>\n",
       "    </tr>\n",
       "  </thead>\n",
       "  <tbody>\n",
       "    <tr>\n",
       "      <th>9083</th>\n",
       "      <td>H4023374</td>\n",
       "      <td>2016-10-05</td>\n",
       "      <td>2018-06-12 15:57:11</td>\n",
       "      <td>Kommunikationer</td>\n",
       "      <td>av Nina Lundström (L)</td>\n",
       "      <td>Motion till riksdagen 2016/17:3374 av Nina Lundström (L) Kommunikationer Förslag till riksdagsbeslut Riksdagen ställer sig bakom det som anförs i motionen om satsningar på cykling och tillkännager detta för regeringen. Riksdagen ställer sig bakom det som anförs i motionen om vägar och tillkännager detta för regeringen. Riksdagen ställer sig bakom det som anförs i motionen om införande av avgift för dubbdäck och tillkännager detta för regeringen. Riksdagen ställer sig bakom det som anförs i m...</td>\n",
       "      <td>Nina Lundström</td>\n",
       "      <td>L</td>\n",
       "    </tr>\n",
       "  </tbody>\n",
       "</table>\n",
       "</div>"
      ],
      "text/plain": [
       "            id       date           file_date             title  \\\n",
       "9083  H4023374 2016-10-05 2018-06-12 15:57:11  Kommunikationer    \n",
       "\n",
       "                   subtitle  \\\n",
       "9083  av Nina Lundström (L)   \n",
       "\n",
       "                                                                                                                                                                                                                                                                                                                                                                                                                                                                                                                     text  \\\n",
       "9083  Motion till riksdagen 2016/17:3374 av Nina Lundström (L) Kommunikationer Förslag till riksdagsbeslut Riksdagen ställer sig bakom det som anförs i motionen om satsningar på cykling och tillkännager detta för regeringen. Riksdagen ställer sig bakom det som anförs i motionen om vägar och tillkännager detta för regeringen. Riksdagen ställer sig bakom det som anförs i motionen om införande av avgift för dubbdäck och tillkännager detta för regeringen. Riksdagen ställer sig bakom det som anförs i m...   \n",
       "\n",
       "         main_author author_party  \n",
       "9083  Nina Lundström            L  "
      ]
     },
     "metadata": {},
     "output_type": "display_data"
    }
   ],
   "source": [
    "# Show sample rows\n",
    "display(df.sample(1, random_state=RANDOM_STATE))"
   ]
  },
  {
   "cell_type": "markdown",
   "id": "4d752819-fc51-47d3-8cef-e1775104eed3",
   "metadata": {},
   "source": [
    "About 167k samples. Let's just go ahead and drop any row with a missing value, for simplicity."
   ]
  },
  {
   "cell_type": "code",
   "execution_count": 5,
   "id": "c4e223f8-b798-4c4b-86aa-748beb5892c1",
   "metadata": {},
   "outputs": [
    {
     "data": {
      "text/html": [
       "<div>\n",
       "<style scoped>\n",
       "    .dataframe tbody tr th:only-of-type {\n",
       "        vertical-align: middle;\n",
       "    }\n",
       "\n",
       "    .dataframe tbody tr th {\n",
       "        vertical-align: top;\n",
       "    }\n",
       "\n",
       "    .dataframe thead th {\n",
       "        text-align: right;\n",
       "    }\n",
       "</style>\n",
       "<table border=\"1\" class=\"dataframe\">\n",
       "  <thead>\n",
       "    <tr style=\"text-align: right;\">\n",
       "      <th></th>\n",
       "      <th>id</th>\n",
       "      <th>date</th>\n",
       "      <th>file_date</th>\n",
       "      <th>title</th>\n",
       "      <th>subtitle</th>\n",
       "      <th>text</th>\n",
       "      <th>main_author</th>\n",
       "      <th>author_party</th>\n",
       "    </tr>\n",
       "  </thead>\n",
       "  <tbody>\n",
       "    <tr>\n",
       "      <th>count</th>\n",
       "      <td>167164</td>\n",
       "      <td>167164</td>\n",
       "      <td>167164</td>\n",
       "      <td>167164</td>\n",
       "      <td>167164</td>\n",
       "      <td>167164</td>\n",
       "      <td>167164</td>\n",
       "      <td>167164</td>\n",
       "    </tr>\n",
       "    <tr>\n",
       "      <th>unique</th>\n",
       "      <td>167164</td>\n",
       "      <td>4441</td>\n",
       "      <td>130291</td>\n",
       "      <td>109984</td>\n",
       "      <td>30344</td>\n",
       "      <td>167038</td>\n",
       "      <td>4413</td>\n",
       "      <td>50</td>\n",
       "    </tr>\n",
       "    <tr>\n",
       "      <th>top</th>\n",
       "      <td>H2021</td>\n",
       "      <td>1991-01-25 00:00:00</td>\n",
       "      <td>2007-02-28 10:52:33</td>\n",
       "      <td>med anledning av prop. 1989/90:90 om forskning</td>\n",
       "      <td>av Sten Bergheden (M)</td>\n",
       "      <td>Dokument saknas</td>\n",
       "      <td>LARS WERNER</td>\n",
       "      <td>M</td>\n",
       "    </tr>\n",
       "    <tr>\n",
       "      <th>freq</th>\n",
       "      <td>1</td>\n",
       "      <td>3719</td>\n",
       "      <td>1963</td>\n",
       "      <td>200</td>\n",
       "      <td>785</td>\n",
       "      <td>120</td>\n",
       "      <td>1889</td>\n",
       "      <td>24669</td>\n",
       "    </tr>\n",
       "    <tr>\n",
       "      <th>first</th>\n",
       "      <td>NaN</td>\n",
       "      <td>1970-01-12 00:00:00</td>\n",
       "      <td>1999-09-16 00:00:00</td>\n",
       "      <td>NaN</td>\n",
       "      <td>NaN</td>\n",
       "      <td>NaN</td>\n",
       "      <td>NaN</td>\n",
       "      <td>NaN</td>\n",
       "    </tr>\n",
       "    <tr>\n",
       "      <th>last</th>\n",
       "      <td>NaN</td>\n",
       "      <td>2022-06-17 00:00:00</td>\n",
       "      <td>2022-07-08 16:15:57</td>\n",
       "      <td>NaN</td>\n",
       "      <td>NaN</td>\n",
       "      <td>NaN</td>\n",
       "      <td>NaN</td>\n",
       "      <td>NaN</td>\n",
       "    </tr>\n",
       "  </tbody>\n",
       "</table>\n",
       "</div>"
      ],
      "text/plain": [
       "            id                 date            file_date  \\\n",
       "count   167164               167164               167164   \n",
       "unique  167164                 4441               130291   \n",
       "top      H2021  1991-01-25 00:00:00  2007-02-28 10:52:33   \n",
       "freq         1                 3719                 1963   \n",
       "first      NaN  1970-01-12 00:00:00  1999-09-16 00:00:00   \n",
       "last       NaN  2022-06-17 00:00:00  2022-07-08 16:15:57   \n",
       "\n",
       "                                                 title               subtitle  \\\n",
       "count                                           167164                 167164   \n",
       "unique                                          109984                  30344   \n",
       "top     med anledning av prop. 1989/90:90 om forskning  av Sten Bergheden (M)   \n",
       "freq                                               200                    785   \n",
       "first                                              NaN                    NaN   \n",
       "last                                               NaN                    NaN   \n",
       "\n",
       "                   text  main_author author_party  \n",
       "count            167164       167164       167164  \n",
       "unique           167038         4413           50  \n",
       "top     Dokument saknas  LARS WERNER            M  \n",
       "freq                120         1889        24669  \n",
       "first               NaN          NaN          NaN  \n",
       "last                NaN          NaN          NaN  "
      ]
     },
     "metadata": {},
     "output_type": "display_data"
    }
   ],
   "source": [
    "df = df.dropna()\n",
    "display(df.describe())"
   ]
  },
  {
   "cell_type": "markdown",
   "id": "f3205718-466f-40fd-aad2-6c8a301c99e9",
   "metadata": {},
   "source": [
    "There's a few things to note here.\n",
    "* The ID's are unique. \n",
    "* On the top date 25th Jan 1991 there were 3 719 motions filed. That warrants a closer look.  \n",
    "* The titles are not unique. In fact 200 motions share the same title \"med anledning av prop. 1989/90:90 om forskning\"  \n",
    "* There's som cleaning up left to do based on the text-column. Now 125 only has 'dokument sakans' (document missing) as string.  We'll want to drop those from the data later."
   ]
  },
  {
   "cell_type": "markdown",
   "id": "d78c4e37-999f-4439-854a-2be12925cb88",
   "metadata": {},
   "source": [
    "#### Over 3k motions on 1991-01-25\n",
    "\n",
    "Let's first see how may motions are usually filed on any particular date"
   ]
  },
  {
   "cell_type": "code",
   "execution_count": 6,
   "id": "be64b548-c01e-4cac-abce-0b571745089a",
   "metadata": {},
   "outputs": [
    {
     "data": {
      "image/png": "[encoded data removed]",
      "text/plain": [
       "<Figure size 432x288 with 1 Axes>"
      ]
     },
     "metadata": {
      "needs_background": "light"
     },
     "output_type": "display_data"
    }
   ],
   "source": [
    "sns.histplot(df.groupby('date').size(), kde=False, log_scale=True)\n",
    "plt.title('Motions per day distribution')\n",
    "plt.xlabel('Number of motions (log scale)')\n",
    "plt.ylabel('Day count')\n",
    "plt.show()"
   ]
  },
  {
   "cell_type": "markdown",
   "id": "c2e3388b-d1ed-4fe1-b0fb-b5e16abc5ea8",
   "metadata": {},
   "source": [
    "While 3k+ on a day is certainly an outlier, it's not the only date that has a large number of motions associated with it. Below is the top ten most common titles for motions on 25th Jan 1991."
   ]
  },
  {
   "cell_type": "code",
   "execution_count": 7,
   "id": "78094b59-1d7a-4b51-8a08-fdf2e1648e12",
   "metadata": {},
   "outputs": [
    {
     "data": {
      "text/plain": [
       "med anledning av prop. 1990/91:69 Arbetslivsforskningens organisation m.m.    8\n",
       "Rattfylleri                                                                   8\n",
       "Riksteatern                                                                   7\n",
       "Avskaffande av skogsvårdsavgiften                                             7\n",
       "Det allmännas skadeståndsansvar                                               6\n",
       "med anledning av prop. 1990/91:71 Lag om vissa dryckesförpackningar           5\n",
       "Mänskliga rättigheter                                                         5\n",
       "Den ekonomiska politiken                                                      5\n",
       "Registrerat partnerskap för homosexuella                                      5\n",
       "Transportstödet                                                               5\n",
       "Name: title, dtype: int64"
      ]
     },
     "metadata": {},
     "output_type": "display_data"
    }
   ],
   "source": [
    "# Show top ten titles on 1991-01-25\n",
    "display(df[df['date'].dt.date == dt(1991, 1, 25).date()].title.value_counts().head(10))"
   ]
  },
  {
   "cell_type": "markdown",
   "id": "4bac8ebd-099c-4227-937c-46edaa0d6ed6",
   "metadata": {},
   "source": [
    "There's not a high number of motions on any one title. I'm going to assume that these motions are valid data (maybe just filed on the wrong date)."
   ]
  },
  {
   "cell_type": "markdown",
   "id": "3a5550fd-0a14-4efc-9d74-95bc3ae6a870",
   "metadata": {},
   "source": [
    "#### The many documents with title 'med anledning av prop. 1989/90:90 om forskning'"
   ]
  },
  {
   "cell_type": "code",
   "execution_count": 8,
   "id": "bc46fd80-6498-4c30-953d-90f42389f1d5",
   "metadata": {},
   "outputs": [
    {
     "data": {
      "text/html": [
       "<div>\n",
       "<style scoped>\n",
       "    .dataframe tbody tr th:only-of-type {\n",
       "        vertical-align: middle;\n",
       "    }\n",
       "\n",
       "    .dataframe tbody tr th {\n",
       "        vertical-align: top;\n",
       "    }\n",
       "\n",
       "    .dataframe thead th {\n",
       "        text-align: right;\n",
       "    }\n",
       "</style>\n",
       "<table border=\"1\" class=\"dataframe\">\n",
       "  <thead>\n",
       "    <tr style=\"text-align: right;\">\n",
       "      <th></th>\n",
       "      <th>id</th>\n",
       "      <th>date</th>\n",
       "      <th>file_date</th>\n",
       "      <th>title</th>\n",
       "      <th>subtitle</th>\n",
       "      <th>text</th>\n",
       "      <th>main_author</th>\n",
       "      <th>author_party</th>\n",
       "    </tr>\n",
       "  </thead>\n",
       "  <tbody>\n",
       "    <tr>\n",
       "      <th>88724</th>\n",
       "      <td>GD02A24</td>\n",
       "      <td>1990-03-19</td>\n",
       "      <td>2014-11-04 14:56:15</td>\n",
       "      <td>med anledning av prop. 1989/90:90 om forskning</td>\n",
       "      <td>av Anders Högmark m.fl. (m)</td>\n",
       "      <td>Observera att dokumentet är inskannat och fel kan förekomma. Motion till riksdagen 1989/90:A24 av Anders Högmark m.fl. (m) med anledning av prop. 1989/90:90 om forskning 1. Inledning Inom arbetsmarknadsdepartementets ansvarsområde ligger bl.a. arbetsmiljöforskning och forskning kring s.k. arbetslivsfrågor. Inom dessa områden finns det omfattande forskningsmöjligheter. Villkoren och förutsättningarna för forskning inom dessa områden är dock speciella. En mycket stor del av forskningsanslagen ...</td>\n",
       "      <td>av Anders Högmark m.fl.</td>\n",
       "      <td>m</td>\n",
       "    </tr>\n",
       "    <tr>\n",
       "      <th>88735</th>\n",
       "      <td>GD02A25</td>\n",
       "      <td>1990-03-20</td>\n",
       "      <td>2014-11-04 14:56:16</td>\n",
       "      <td>med anledning av prop. 1989/90:90 om forskning</td>\n",
       "      <td>av Sven-Åke Nygårds m.fl. (s)</td>\n",
       "      <td>Observera att dokumentet är inskannat och fel kan förekomma. Motion till riksdagen 1989/90:A25 av Sven-Åke Nygårds m.fl. (s) med anledning av prop. 1989/90:90 om forskning Förhållandena inom arbetsmiljöområdet har rönt en stegrande uppmärksamhet under senare år. Detta visas av att en arbetsmiljökommission har tillsatts. Inrättandet av en arbetslivsfond talar samma språk. I den forskningspolitiska propositionen 1989/90:90 har inte detta slagit igenom på samma sätt. För oss är det uppenbart at...</td>\n",
       "      <td>av Sven-Åke Nygårds m.fl.</td>\n",
       "      <td>s</td>\n",
       "    </tr>\n",
       "    <tr>\n",
       "      <th>88746</th>\n",
       "      <td>GD02A26</td>\n",
       "      <td>1990-03-20</td>\n",
       "      <td>2014-11-04 14:56:16</td>\n",
       "      <td>med anledning av prop. 1989/90:90 om forskning</td>\n",
       "      <td>av Jan Hyttring och Kjell Ericsson (båda c)</td>\n",
       "      <td>Observera att dokumentet är inskannat och fel kan förekomma. Motion till riksdagen 1989/90:A26 av Jan Hyttring och Kjell Ericsson (båda c) med anledning av prop. 1989/90:90 om forskning Hemställan Med hänvisning till vad som anförts i motion 1989/90:Ubl45 hemställs att riksdagen beslutar att som sin mening ge regeringen till känna vad i motionen föreslås för arbetslivsforskning vid högskolan i Karlstad. Stockholm den 20 mars 1990 Jan Hyttring (c) Kjell Ericsson (c)</td>\n",
       "      <td>Jan Hyttring</td>\n",
       "      <td>c</td>\n",
       "    </tr>\n",
       "    <tr>\n",
       "      <th>88757</th>\n",
       "      <td>GD02A27</td>\n",
       "      <td>1990-03-20</td>\n",
       "      <td>2014-11-04 14:56:17</td>\n",
       "      <td>med anledning av prop. 1989/90:90 om forskning</td>\n",
       "      <td>av Krister Skånberg (mp)</td>\n",
       "      <td>Observera att dokumentet är inskannat och fel kan förekomma. Motion till riksdagen 1989/90:A27 av Krister Skånberg (mp) med anledning av prop. 1989/90:90 om forskning I denna motion anger jag en rad behov av lokal och regional utveckling och forskning och begär regeringsförslag om och resurser för sådan forskning. 1. Det behövs forskning om ev förändrade förutsättningar för en aktiv regionalpolitik i samband med den europeiska integrationen. Vilka spelregler kan och får vi använda i Sverige ...</td>\n",
       "      <td>av Krister Skånberg</td>\n",
       "      <td>mp</td>\n",
       "    </tr>\n",
       "    <tr>\n",
       "      <th>88768</th>\n",
       "      <td>GD02A28</td>\n",
       "      <td>1990-03-20</td>\n",
       "      <td>2014-11-04 14:56:17</td>\n",
       "      <td>med anledning av prop. 1989/90:90 om forskning</td>\n",
       "      <td>av Carl Bildt m.fl. (m)</td>\n",
       "      <td>Observera att dokumentet är inskannat och fel kan förekomma. Motion till riksdagen 1989/90:A28 av Carl Bildt m.fl. (m) med anledning av prop. 1989/90:90 om forskning Hemställan Med hänvisning till vad som anförts i motion 1989/90:Ubl25 hemställs att riksdagen som sin mening ger regeringen till känna vad i motionen anförts om en avveckling av verksamheten i dess nuvarande form vid arbetslivscentrum och arbetsmiljöinstitutet. Stockholm den 20 mars 1990 Carl Bildt (m) Lars Tobisson (m) Anders B...</td>\n",
       "      <td>av Carl Bildt m.fl.</td>\n",
       "      <td>m</td>\n",
       "    </tr>\n",
       "    <tr>\n",
       "      <th>88779</th>\n",
       "      <td>GD02A29</td>\n",
       "      <td>1990-03-20</td>\n",
       "      <td>2014-11-04 14:56:18</td>\n",
       "      <td>med anledning av prop. 1989/90:90 om forskning</td>\n",
       "      <td>av Lars Werner m.fl. (vpk)</td>\n",
       "      <td>Observera att dokumentet är inskannat och fel kan förekomma. Motion till riksdagen 1989/90:A29 av Lars Werner m.fl. (vpk) med anledning av prop. 1989/90:90 om forskning Hemställan Med hänvisning till vad som anförts i motion 1989/90:Ubl39 hemställs att riksdagen till Arbetsmiljöinstitutet anslår 1 000000 kr. utöver regeringens förslag, för informationsverksamhet i enlighet med vad som anförts i motionen. Stockholm den 20 mars 1990 Lars Werner (vpk) Bertil Måbrink (vpk) Bo Hammar (vpk) Lars-O...</td>\n",
       "      <td>av Lars Werner m.fl.</td>\n",
       "      <td>vpk</td>\n",
       "    </tr>\n",
       "    <tr>\n",
       "      <th>88789</th>\n",
       "      <td>GD02A30</td>\n",
       "      <td>1990-03-20</td>\n",
       "      <td>2014-11-04 14:56:19</td>\n",
       "      <td>med anledning av prop. 1989/90:90 om forskning</td>\n",
       "      <td>Börje Hörnlund m.fl. (c)</td>\n",
       "      <td>Observera att dokumentet är inskannat och fel kan förekomma. Motion till riksdagen 1989/90: A30 Börje Hörnlund m.fl. (c) med anledning av prop. 1989/90:90 om forskning Hemställan Med hänvisning till vad som anförts i motion 1989/90:N45 hemställs 1. att riksdagen som sin mening ger regeringen till känna vad som i motionen anförts om behovet av en förstärkt forskning kring landsbygdens förhållanden och utveckling, 2. att riksdagen beslutar att till Landsbygdens forskningsråd anvisa ett reserva...</td>\n",
       "      <td>Börje Hörnlund m.fl.</td>\n",
       "      <td>c</td>\n",
       "    </tr>\n",
       "    <tr>\n",
       "      <th>89147</th>\n",
       "      <td>GD02Bo43</td>\n",
       "      <td>1990-03-20</td>\n",
       "      <td>2014-10-14 12:29:56</td>\n",
       "      <td>med anledning av prop. 1989/90:90 om forskning</td>\n",
       "      <td>av Hans Lindblad (fp)</td>\n",
       "      <td>Observera att dokumentet är inskannat och fel kan förekomma. Motion till riksdagen 1989/90: Bo43 av Hans Lindblad (fp) med anledning av prop. 1989/90:90 om forskning Statens institut för byggnadsforskning har efterhand fått allt större bredd i sin forskning. Från att ha varit koncentrerad på byggnadsmaterial och byggmetoder omfattar forskningen numera också mer kring sociala och ekonomiska förhållanden kring boendet, samhällsplanering och fastighetsskötsel. Institutet lokaliserades i mitten ...</td>\n",
       "      <td>av Hans Lindblad</td>\n",
       "      <td>fp</td>\n",
       "    </tr>\n",
       "    <tr>\n",
       "      <th>89148</th>\n",
       "      <td>GD02Bo44</td>\n",
       "      <td>1990-03-20</td>\n",
       "      <td>2014-10-14 12:29:56</td>\n",
       "      <td>med anledning av prop. 1989/90:90 om forskning</td>\n",
       "      <td>av Jan Strömdahl m.fl. (vpk)</td>\n",
       "      <td>Observera att dokumentet är inskannat och fel kan förekomma. Motion till riksdagen 1989/90: B o44 av Jan Strömdahl m.fl. (vpk) med anledning av prop. 1989/90:90 om forskning Forskningens allmänna inriktning och finansiering Vi instämmer i regeringens syn på forskningens allmänna inriktning mot långsiktighet, vetenskaplig kvalitet, ökad universitetsanknytning, självständighet och miljöfrågor i vid bemärkelse. Byggforskningsrådet och byggforskningsinstitutet bedriver en verksamhet som i stort ...</td>\n",
       "      <td>av Jan Strömdahl m.fl.</td>\n",
       "      <td>vpk</td>\n",
       "    </tr>\n",
       "    <tr>\n",
       "      <th>89149</th>\n",
       "      <td>GD02Bo45</td>\n",
       "      <td>1990-03-20</td>\n",
       "      <td>2014-10-14 12:29:56</td>\n",
       "      <td>med anledning av prop. 1989/90:90 om forskning</td>\n",
       "      <td>av Erling Bager m.fl. (fp)</td>\n",
       "      <td>Observera att dokumentet är inskannat och fel kan förekomma. Motion till riksdagen 1989/90:Bo45 av Erling Bager m.fl. (fp) med anledning av prop. 1989/90:90 om forskning Byggnadsforskning Bostads- och byggnadsforskning omfattar stora delar av samhällsbyggandet och samhällsplaneringen. Forsknings- och utvecklingsarbetet är av betydelse för bl.a. välfärd, hälsa och hushållning med naturresurser. FoU-arbetet bedrivs inom bostadsdepartementets ansvarsområde. Organisationen omfattar ett finansier...</td>\n",
       "      <td>av Erling Bager m.fl.</td>\n",
       "      <td>fp</td>\n",
       "    </tr>\n",
       "  </tbody>\n",
       "</table>\n",
       "</div>"
      ],
      "text/plain": [
       "             id       date           file_date  \\\n",
       "88724   GD02A24 1990-03-19 2014-11-04 14:56:15   \n",
       "88735   GD02A25 1990-03-20 2014-11-04 14:56:16   \n",
       "88746   GD02A26 1990-03-20 2014-11-04 14:56:16   \n",
       "88757   GD02A27 1990-03-20 2014-11-04 14:56:17   \n",
       "88768   GD02A28 1990-03-20 2014-11-04 14:56:17   \n",
       "88779   GD02A29 1990-03-20 2014-11-04 14:56:18   \n",
       "88789   GD02A30 1990-03-20 2014-11-04 14:56:19   \n",
       "89147  GD02Bo43 1990-03-20 2014-10-14 12:29:56   \n",
       "89148  GD02Bo44 1990-03-20 2014-10-14 12:29:56   \n",
       "89149  GD02Bo45 1990-03-20 2014-10-14 12:29:56   \n",
       "\n",
       "                                                title  \\\n",
       "88724  med anledning av prop. 1989/90:90 om forskning   \n",
       "88735  med anledning av prop. 1989/90:90 om forskning   \n",
       "88746  med anledning av prop. 1989/90:90 om forskning   \n",
       "88757  med anledning av prop. 1989/90:90 om forskning   \n",
       "88768  med anledning av prop. 1989/90:90 om forskning   \n",
       "88779  med anledning av prop. 1989/90:90 om forskning   \n",
       "88789  med anledning av prop. 1989/90:90 om forskning   \n",
       "89147  med anledning av prop. 1989/90:90 om forskning   \n",
       "89148  med anledning av prop. 1989/90:90 om forskning   \n",
       "89149  med anledning av prop. 1989/90:90 om forskning   \n",
       "\n",
       "                                           subtitle  \\\n",
       "88724                   av Anders Högmark m.fl. (m)   \n",
       "88735                 av Sven-Åke Nygårds m.fl. (s)   \n",
       "88746  av Jan Hyttring och Kjell Ericsson (båda c)    \n",
       "88757                      av Krister Skånberg (mp)   \n",
       "88768                       av Carl Bildt m.fl. (m)   \n",
       "88779                    av Lars Werner m.fl. (vpk)   \n",
       "88789                      Börje Hörnlund m.fl. (c)   \n",
       "89147                         av Hans Lindblad (fp)   \n",
       "89148                  av Jan Strömdahl m.fl. (vpk)   \n",
       "89149                    av Erling Bager m.fl. (fp)   \n",
       "\n",
       "                                                                                                                                                                                                                                                                                                                                                                                                                                                                                                                      text  \\\n",
       "88724  Observera att dokumentet är inskannat och fel kan förekomma. Motion till riksdagen 1989/90:A24 av Anders Högmark m.fl. (m) med anledning av prop. 1989/90:90 om forskning 1. Inledning Inom arbetsmarknadsdepartementets ansvarsområde ligger bl.a. arbetsmiljöforskning och forskning kring s.k. arbetslivsfrågor. Inom dessa områden finns det omfattande forskningsmöjligheter. Villkoren och förutsättningarna för forskning inom dessa områden är dock speciella. En mycket stor del av forskningsanslagen ...   \n",
       "88735  Observera att dokumentet är inskannat och fel kan förekomma. Motion till riksdagen 1989/90:A25 av Sven-Åke Nygårds m.fl. (s) med anledning av prop. 1989/90:90 om forskning Förhållandena inom arbetsmiljöområdet har rönt en stegrande uppmärksamhet under senare år. Detta visas av att en arbetsmiljökommission har tillsatts. Inrättandet av en arbetslivsfond talar samma språk. I den forskningspolitiska propositionen 1989/90:90 har inte detta slagit igenom på samma sätt. För oss är det uppenbart at...   \n",
       "88746                                Observera att dokumentet är inskannat och fel kan förekomma. Motion till riksdagen 1989/90:A26 av Jan Hyttring och Kjell Ericsson (båda c) med anledning av prop. 1989/90:90 om forskning Hemställan Med hänvisning till vad som anförts i motion 1989/90:Ubl45 hemställs att riksdagen beslutar att som sin mening ge regeringen till känna vad i motionen föreslås för arbetslivsforskning vid högskolan i Karlstad. Stockholm den 20 mars 1990 Jan Hyttring (c) Kjell Ericsson (c)   \n",
       "88757  Observera att dokumentet är inskannat och fel kan förekomma. Motion till riksdagen 1989/90:A27 av Krister Skånberg (mp) med anledning av prop. 1989/90:90 om forskning I denna motion anger jag en rad behov av lokal och regional utveckling och forskning och begär regeringsförslag om och resurser för sådan forskning. 1. Det behövs forskning om ev förändrade förutsättningar för en aktiv regionalpolitik i samband med den europeiska integrationen. Vilka spelregler kan och får vi använda i Sverige ...   \n",
       "88768  Observera att dokumentet är inskannat och fel kan förekomma. Motion till riksdagen 1989/90:A28 av Carl Bildt m.fl. (m) med anledning av prop. 1989/90:90 om forskning Hemställan Med hänvisning till vad som anförts i motion 1989/90:Ubl25 hemställs att riksdagen som sin mening ger regeringen till känna vad i motionen anförts om en avveckling av verksamheten i dess nuvarande form vid arbetslivscentrum och arbetsmiljöinstitutet. Stockholm den 20 mars 1990 Carl Bildt (m) Lars Tobisson (m) Anders B...   \n",
       "88779  Observera att dokumentet är inskannat och fel kan förekomma. Motion till riksdagen 1989/90:A29 av Lars Werner m.fl. (vpk) med anledning av prop. 1989/90:90 om forskning Hemställan Med hänvisning till vad som anförts i motion 1989/90:Ubl39 hemställs att riksdagen till Arbetsmiljöinstitutet anslår 1 000000 kr. utöver regeringens förslag, för informationsverksamhet i enlighet med vad som anförts i motionen. Stockholm den 20 mars 1990 Lars Werner (vpk) Bertil Måbrink (vpk) Bo Hammar (vpk) Lars-O...   \n",
       "88789  Observera att dokumentet är inskannat och fel kan förekomma. Motion till riksdagen 1989/90: A30 Börje Hörnlund m.fl. (c) med anledning av prop. 1989/90:90 om forskning Hemställan Med hänvisning till vad som anförts i motion 1989/90:N45 hemställs 1. att riksdagen som sin mening ger regeringen till känna vad som i motionen anförts om behovet av en förstärkt forskning kring landsbygdens förhållanden och utveckling, 2. att riksdagen beslutar att till Landsbygdens forskningsråd anvisa ett reserva...   \n",
       "89147  Observera att dokumentet är inskannat och fel kan förekomma. Motion till riksdagen 1989/90: Bo43 av Hans Lindblad (fp) med anledning av prop. 1989/90:90 om forskning Statens institut för byggnadsforskning har efterhand fått allt större bredd i sin forskning. Från att ha varit koncentrerad på byggnadsmaterial och byggmetoder omfattar forskningen numera också mer kring sociala och ekonomiska förhållanden kring boendet, samhällsplanering och fastighetsskötsel. Institutet lokaliserades i mitten ...   \n",
       "89148  Observera att dokumentet är inskannat och fel kan förekomma. Motion till riksdagen 1989/90: B o44 av Jan Strömdahl m.fl. (vpk) med anledning av prop. 1989/90:90 om forskning Forskningens allmänna inriktning och finansiering Vi instämmer i regeringens syn på forskningens allmänna inriktning mot långsiktighet, vetenskaplig kvalitet, ökad universitetsanknytning, självständighet och miljöfrågor i vid bemärkelse. Byggforskningsrådet och byggforskningsinstitutet bedriver en verksamhet som i stort ...   \n",
       "89149  Observera att dokumentet är inskannat och fel kan förekomma. Motion till riksdagen 1989/90:Bo45 av Erling Bager m.fl. (fp) med anledning av prop. 1989/90:90 om forskning Byggnadsforskning Bostads- och byggnadsforskning omfattar stora delar av samhällsbyggandet och samhällsplaneringen. Forsknings- och utvecklingsarbetet är av betydelse för bl.a. välfärd, hälsa och hushållning med naturresurser. FoU-arbetet bedrivs inom bostadsdepartementets ansvarsområde. Organisationen omfattar ett finansier...   \n",
       "\n",
       "                     main_author author_party  \n",
       "88724    av Anders Högmark m.fl.            m  \n",
       "88735  av Sven-Åke Nygårds m.fl.            s  \n",
       "88746               Jan Hyttring            c  \n",
       "88757        av Krister Skånberg           mp  \n",
       "88768        av Carl Bildt m.fl.            m  \n",
       "88779       av Lars Werner m.fl.          vpk  \n",
       "88789       Börje Hörnlund m.fl.            c  \n",
       "89147           av Hans Lindblad           fp  \n",
       "89148     av Jan Strömdahl m.fl.          vpk  \n",
       "89149      av Erling Bager m.fl.           fp  "
      ]
     },
     "execution_count": 8,
     "metadata": {},
     "output_type": "execute_result"
    }
   ],
   "source": [
    "df.loc[df['title'] == 'med anledning av prop. 1989/90:90 om forskning'].head(10)"
   ]
  },
  {
   "cell_type": "markdown",
   "id": "983a3f8a-d6bb-4f5e-91d0-55a44f1c55c1",
   "metadata": {},
   "source": [
    "At least after eye-balling just a few of these motions they seem fine. They're different documents, just on the same topic. But since we cant look at them all, let's drop any rows with identical combination of title and text."
   ]
  },
  {
   "cell_type": "code",
   "execution_count": 9,
   "id": "27318538",
   "metadata": {},
   "outputs": [],
   "source": [
    "df = df.drop_duplicates(subset=['text', 'title'])"
   ]
  },
  {
   "cell_type": "markdown",
   "id": "ec805739",
   "metadata": {},
   "source": [
    "### Preprocess text  \n",
    "\n",
    "Many motions' raw structure are \n",
    "```\n",
    "Observera att dokumentet är inskannat och fel kan förekomma. Motion till riksdagen <motion_serial> <motion_subtitle> <motion_title> <parliament_decision_proposal>. Motivering <motion_text> <motion_footer>\n",
    "```\n",
    "We'll leave the footer for now. The intention here is to delete the leading blocks so that `df['text']` starts with the actual motion text. Let's use the first motion as an example. We'd like this one to start with `\"I den snabba ...\"` when we're done."
   ]
  },
  {
   "cell_type": "code",
   "execution_count": 10,
   "id": "8000a53e",
   "metadata": {},
   "outputs": [
    {
     "name": "stdout",
     "output_type": "stream",
     "text": [
      "Motion till riksdagen 2014/15:1 av Anders Ahlgren och Anders Åkesson (C) Utveckla en nationell strategi för tillväxt och grundläggande service i hela landet Förslag till riksdagsbeslut Riksdagen tillkännager för regeringen som sin mening vad som anförs i motionen om att utveckla en nationell strategi för tillväxt och grundläggande service i hela landet. Motivering I den snabba urbaniseringen som sker klyvs Sverige. Människor känner oro för sina jobb, för sitt företag, för sina barns uppväxtmiljö\n"
     ]
    }
   ],
   "source": [
    "first_motion = df['text'][0][:500]\n",
    "print(first_motion)"
   ]
  },
  {
   "cell_type": "code",
   "execution_count": 11,
   "id": "ee799c43",
   "metadata": {},
   "outputs": [
    {
     "name": "stdout",
     "output_type": "stream",
     "text": [
      "Utveckla en nationell strategi för tillväxt och grundläggande service i hela landet Förslag till riksdagsbeslut Riksdagen tillkännager för regeringen som sin mening vad som anförs i motionen om att utveckla en nationell strategi för tillväxt och grundläggande service i hela landet. Motivering I den snabba urbaniseringen som sker klyvs Sverige. Människor känner oro för sina jobb, för sitt företag, för sina barns uppväxtmiljö och för tryggheten på ålderns höst. Detta blir tydligt när vi drar sluts\n"
     ]
    }
   ],
   "source": [
    "# Initial cleaning\n",
    "df[\"title\"] = trim_whitespace(df[\"title\"])\n",
    "df[\"text\"] = trim_linebreaks(df[\"text\"])\n",
    "df[\"text\"] = trim_whitespace(df[\"text\"])\n",
    "df[\"text\"] = df.apply(trim_motion_text_by_subtitle, axis=1)\n",
    "\n",
    "first_motion = df['text'][0][:500]\n",
    "print(first_motion)"
   ]
  },
  {
   "cell_type": "code",
   "execution_count": 12,
   "id": "7477a193",
   "metadata": {},
   "outputs": [
    {
     "name": "stdout",
     "output_type": "stream",
     "text": [
      "Förslag till riksdagsbeslut Riksdagen tillkännager för regeringen som sin mening vad som anförs i motionen om att utveckla en nationell strategi för tillväxt och grundläggande service i hela landet. Motivering I den snabba urbaniseringen som sker klyvs Sverige. Människor känner oro för sina jobb, för sitt företag, för sina barns uppväxtmiljö och för tryggheten på ålderns höst. Detta blir tydligt när vi drar slutsatser ifrån 2014 års val. Ska det vara möjligt att bo, arbeta och leva i hela landet\n"
     ]
    }
   ],
   "source": [
    "df[\"text\"] = df.apply(trim_motion_text_by_leading_title, axis=1)\n",
    "\n",
    "first_motion = df['text'][0][:500]\n",
    "print(first_motion)"
   ]
  },
  {
   "cell_type": "code",
   "execution_count": 13,
   "id": "89e56ea2",
   "metadata": {},
   "outputs": [
    {
     "name": "stdout",
     "output_type": "stream",
     "text": [
      "Motivering I den snabba urbaniseringen som sker klyvs Sverige. Människor känner oro för sina jobb, för sitt företag, för sina barns uppväxtmiljö och för tryggheten på ålderns höst. Detta blir tydligt när vi drar slutsatser ifrån 2014 års val. Ska det vara möjligt att bo, arbeta och leva i hela landet? Är det viktigt att även boende på landsbygden har tillgång till bredband, bensinstationer, livsmedelsbutik, kollektivtrafik, skola och vårdcentral? Tycker du att beslut ska fattas så nära människor\n"
     ]
    }
   ],
   "source": [
    "df[\"text\"] = df.apply(trim_motion_text_by_proposed_decision, axis=1)\n",
    "\n",
    "first_motion = df['text'][0][:500]\n",
    "print(first_motion)"
   ]
  },
  {
   "cell_type": "code",
   "execution_count": 14,
   "id": "b751526c",
   "metadata": {},
   "outputs": [
    {
     "name": "stdout",
     "output_type": "stream",
     "text": [
      "I den snabba urbaniseringen som sker klyvs Sverige. Människor känner oro för sina jobb, för sitt företag, för sina barns uppväxtmiljö och för tryggheten på ålderns höst. Detta blir tydligt när vi drar slutsatser ifrån 2014 års val. Ska det vara möjligt att bo, arbeta och leva i hela landet? Är det viktigt att även boende på landsbygden har tillgång till bredband, bensinstationer, livsmedelsbutik, kollektivtrafik, skola och vårdcentral? Tycker du att beslut ska fattas så nära människor som möjlig\n"
     ]
    }
   ],
   "source": [
    "df[\"text\"] = df.apply(trim_leadning_motivation, axis=1)\n",
    "df[\"text\"] = df.apply(set_empty_when_leading_date, axis=1)\n",
    "df[\"text\"] = df.apply(delete_footer, axis=1)\n",
    "\n",
    "first_motion = df['text'][0][:500]\n",
    "print(first_motion)"
   ]
  },
  {
   "cell_type": "markdown",
   "id": "1b8bcca9",
   "metadata": {},
   "source": [
    "That's it. Now let's take another look at the text column as a whole. There's a lot of junk in the texts that are very short after the preprocessing. For now we'll just drop all rows with a text that's shorter than 150 charachters."
   ]
  },
  {
   "cell_type": "code",
   "execution_count": 37,
   "id": "105cafe3",
   "metadata": {},
   "outputs": [
    {
     "data": {
      "text/html": [
       "<div>\n",
       "<style scoped>\n",
       "    .dataframe tbody tr th:only-of-type {\n",
       "        vertical-align: middle;\n",
       "    }\n",
       "\n",
       "    .dataframe tbody tr th {\n",
       "        vertical-align: top;\n",
       "    }\n",
       "\n",
       "    .dataframe thead th {\n",
       "        text-align: right;\n",
       "    }\n",
       "</style>\n",
       "<table border=\"1\" class=\"dataframe\">\n",
       "  <thead>\n",
       "    <tr style=\"text-align: right;\">\n",
       "      <th></th>\n",
       "      <th>id</th>\n",
       "      <th>date</th>\n",
       "      <th>file_date</th>\n",
       "      <th>title</th>\n",
       "      <th>subtitle</th>\n",
       "      <th>text</th>\n",
       "      <th>main_author</th>\n",
       "      <th>author_party</th>\n",
       "    </tr>\n",
       "  </thead>\n",
       "  <tbody>\n",
       "    <tr>\n",
       "      <th>124</th>\n",
       "      <td>H202111</td>\n",
       "      <td>2014-10-29</td>\n",
       "      <td>2016-07-08 10:31:51</td>\n",
       "      <td>Värna om Sveriges framtida energiförsörjning</td>\n",
       "      <td>av Jenny Petersson m.fl. (M)</td>\n",
       "      <td>Jenny Petersson (M) Jörgen Warborn (M) Michael Svensson (M)</td>\n",
       "      <td>Jenny Petersson</td>\n",
       "      <td>M</td>\n",
       "    </tr>\n",
       "    <tr>\n",
       "      <th>528</th>\n",
       "      <td>H2021474</td>\n",
       "      <td>2014-11-07</td>\n",
       "      <td>2016-04-27 13:43:05</td>\n",
       "      <td>Principerna för beskattning</td>\n",
       "      <td>av Sofia Arkelsten (M)</td>\n",
       "      <td>Sofia Arkelsten (M)</td>\n",
       "      <td>Sofia Arkelsten</td>\n",
       "      <td>M</td>\n",
       "    </tr>\n",
       "    <tr>\n",
       "      <th>1523</th>\n",
       "      <td>H202237</td>\n",
       "      <td>2014-11-04</td>\n",
       "      <td>2016-04-26 15:57:52</td>\n",
       "      <td>Översyn av kommunens ansvar och föräldrabalken</td>\n",
       "      <td>av Maria Stockhaus (M)</td>\n",
       "      <td>Maria Stockhaus (M)</td>\n",
       "      <td>Maria Stockhaus</td>\n",
       "      <td>M</td>\n",
       "    </tr>\n",
       "    <tr>\n",
       "      <th>3289</th>\n",
       "      <td>H3021225</td>\n",
       "      <td>2015-10-05</td>\n",
       "      <td>2016-05-23 14:51:47</td>\n",
       "      <td>Sveriges framtida energiförsörjning</td>\n",
       "      <td>av Jenny Petersson m.fl. (M)</td>\n",
       "      <td>Jenny Petersson (M) Jörgen Warborn (M) Michael Svensson (M)</td>\n",
       "      <td>Jenny Petersson</td>\n",
       "      <td>M</td>\n",
       "    </tr>\n",
       "    <tr>\n",
       "      <th>3547</th>\n",
       "      <td>H3021458</td>\n",
       "      <td>2015-10-05</td>\n",
       "      <td>2016-12-13 17:12:39</td>\n",
       "      <td>Riksväg 55</td>\n",
       "      <td>av Erik Bengtzboe (M)</td>\n",
       "      <td>Erik Bengtzboe (M)</td>\n",
       "      <td>Erik Bengtzboe</td>\n",
       "      <td>M</td>\n",
       "    </tr>\n",
       "    <tr>\n",
       "      <th>...</th>\n",
       "      <td>...</td>\n",
       "      <td>...</td>\n",
       "      <td>...</td>\n",
       "      <td>...</td>\n",
       "      <td>...</td>\n",
       "      <td>...</td>\n",
       "      <td>...</td>\n",
       "      <td>...</td>\n",
       "    </tr>\n",
       "    <tr>\n",
       "      <th>161496</th>\n",
       "      <td>GJ02U21</td>\n",
       "      <td>1996-01-26</td>\n",
       "      <td>2005-11-02 21:56:59</td>\n",
       "      <td>med anledning av skr. 1995/96:30 EU:s regeringskonferens 1996</td>\n",
       "      <td>av Alf Svensson m.fl. (kds)</td>\n",
       "      <td>Dokument saknas</td>\n",
       "      <td>Alf Svensson</td>\n",
       "      <td>kds</td>\n",
       "    </tr>\n",
       "    <tr>\n",
       "      <th>161516</th>\n",
       "      <td>GJ02U4</td>\n",
       "      <td>1995-11-14</td>\n",
       "      <td>2005-11-02 21:50:50</td>\n",
       "      <td>med anledning av skr. 1995/96:40 FN inför framtiden</td>\n",
       "      <td>av Bodil Francke Ohlsson och Marianne Samuelsson (mp)</td>\n",
       "      <td>Dokument saknas</td>\n",
       "      <td>Bodil Francke Ohlsson</td>\n",
       "      <td>mp</td>\n",
       "    </tr>\n",
       "    <tr>\n",
       "      <th>161519</th>\n",
       "      <td>GJ02U42</td>\n",
       "      <td>1996-03-28</td>\n",
       "      <td>2005-11-02 22:03:19</td>\n",
       "      <td>med anledning av redog. 1995/96:NR1 Nordiska rådets svenska delegations berättelse angående verksamheten efter rådets 44:e session t.o.m. den 47:e sessionen</td>\n",
       "      <td>av Elver Jonsson och Anne Wibble (fp)</td>\n",
       "      <td>Dokument saknas</td>\n",
       "      <td>Elver Jonsson</td>\n",
       "      <td>fp</td>\n",
       "    </tr>\n",
       "    <tr>\n",
       "      <th>161532</th>\n",
       "      <td>GJ02Ub12</td>\n",
       "      <td>1996-03-19</td>\n",
       "      <td>2005-11-02 21:53:39</td>\n",
       "      <td>med anledning av redog. 1995/96:RJ1 Styrelsen för Stiftelsen Riksbankens Jubileumsfonds berättelse över fondens verksamhet och förvaltning under år 1995</td>\n",
       "      <td>av Britt-Marie Danestig-Olofsson och Johan Lönnroth (v)</td>\n",
       "      <td>Dokument saknas</td>\n",
       "      <td>Britt-Marie Danestig-Olofsson</td>\n",
       "      <td>v</td>\n",
       "    </tr>\n",
       "    <tr>\n",
       "      <th>161535</th>\n",
       "      <td>GJ02Ub15</td>\n",
       "      <td>1996-03-19</td>\n",
       "      <td>2005-11-02 21:54:47</td>\n",
       "      <td>med anledning av prop. 1995/96:145 Kvalificerad yrkesutbildning m.m.</td>\n",
       "      <td>av Britt-Marie Danestig-Olofsson (v)</td>\n",
       "      <td>Dokument saknas</td>\n",
       "      <td>Britt-Marie Danestig-Olofsson</td>\n",
       "      <td>V</td>\n",
       "    </tr>\n",
       "  </tbody>\n",
       "</table>\n",
       "<p>7403 rows × 8 columns</p>\n",
       "</div>"
      ],
      "text/plain": [
       "              id       date           file_date  \\\n",
       "124      H202111 2014-10-29 2016-07-08 10:31:51   \n",
       "528     H2021474 2014-11-07 2016-04-27 13:43:05   \n",
       "1523     H202237 2014-11-04 2016-04-26 15:57:52   \n",
       "3289    H3021225 2015-10-05 2016-05-23 14:51:47   \n",
       "3547    H3021458 2015-10-05 2016-12-13 17:12:39   \n",
       "...          ...        ...                 ...   \n",
       "161496   GJ02U21 1996-01-26 2005-11-02 21:56:59   \n",
       "161516    GJ02U4 1995-11-14 2005-11-02 21:50:50   \n",
       "161519   GJ02U42 1996-03-28 2005-11-02 22:03:19   \n",
       "161532  GJ02Ub12 1996-03-19 2005-11-02 21:53:39   \n",
       "161535  GJ02Ub15 1996-03-19 2005-11-02 21:54:47   \n",
       "\n",
       "                                                                                                                                                               title  \\\n",
       "124                                                                                                                     Värna om Sveriges framtida energiförsörjning   \n",
       "528                                                                                                                                      Principerna för beskattning   \n",
       "1523                                                                                                                  Översyn av kommunens ansvar och föräldrabalken   \n",
       "3289                                                                                                                             Sveriges framtida energiförsörjning   \n",
       "3547                                                                                                                                                      Riksväg 55   \n",
       "...                                                                                                                                                              ...   \n",
       "161496                                                                                                 med anledning av skr. 1995/96:30 EU:s regeringskonferens 1996   \n",
       "161516                                                                                                           med anledning av skr. 1995/96:40 FN inför framtiden   \n",
       "161519  med anledning av redog. 1995/96:NR1 Nordiska rådets svenska delegations berättelse angående verksamheten efter rådets 44:e session t.o.m. den 47:e sessionen   \n",
       "161532      med anledning av redog. 1995/96:RJ1 Styrelsen för Stiftelsen Riksbankens Jubileumsfonds berättelse över fondens verksamhet och förvaltning under år 1995   \n",
       "161535                                                                                          med anledning av prop. 1995/96:145 Kvalificerad yrkesutbildning m.m.   \n",
       "\n",
       "                                                       subtitle  \\\n",
       "124                                av Jenny Petersson m.fl. (M)   \n",
       "528                                      av Sofia Arkelsten (M)   \n",
       "1523                                     av Maria Stockhaus (M)   \n",
       "3289                               av Jenny Petersson m.fl. (M)   \n",
       "3547                                      av Erik Bengtzboe (M)   \n",
       "...                                                         ...   \n",
       "161496                              av Alf Svensson m.fl. (kds)   \n",
       "161516    av Bodil Francke Ohlsson och Marianne Samuelsson (mp)   \n",
       "161519                    av Elver Jonsson och Anne Wibble (fp)   \n",
       "161532  av Britt-Marie Danestig-Olofsson och Johan Lönnroth (v)   \n",
       "161535                     av Britt-Marie Danestig-Olofsson (v)   \n",
       "\n",
       "                                                               text  \\\n",
       "124     Jenny Petersson (M) Jörgen Warborn (M) Michael Svensson (M)   \n",
       "528                                             Sofia Arkelsten (M)   \n",
       "1523                                            Maria Stockhaus (M)   \n",
       "3289    Jenny Petersson (M) Jörgen Warborn (M) Michael Svensson (M)   \n",
       "3547                                             Erik Bengtzboe (M)   \n",
       "...                                                             ...   \n",
       "161496                                              Dokument saknas   \n",
       "161516                                              Dokument saknas   \n",
       "161519                                              Dokument saknas   \n",
       "161532                                              Dokument saknas   \n",
       "161535                                              Dokument saknas   \n",
       "\n",
       "                           main_author author_party  \n",
       "124                    Jenny Petersson            M  \n",
       "528                    Sofia Arkelsten            M  \n",
       "1523                   Maria Stockhaus            M  \n",
       "3289                   Jenny Petersson            M  \n",
       "3547                    Erik Bengtzboe            M  \n",
       "...                                ...          ...  \n",
       "161496                    Alf Svensson          kds  \n",
       "161516           Bodil Francke Ohlsson           mp  \n",
       "161519                   Elver Jonsson           fp  \n",
       "161532   Britt-Marie Danestig-Olofsson            v  \n",
       "161535  Britt-Marie Danestig-Olofsson             V  \n",
       "\n",
       "[7403 rows x 8 columns]"
      ]
     },
     "metadata": {},
     "output_type": "display_data"
    }
   ],
   "source": [
    "# Show some eamples of short texts before dropping them\n",
    "display(df[df['text'].str.len() < 150])\n",
    "df = df.loc[df['text'].str.len() >= 150]"
   ]
  },
  {
   "cell_type": "markdown",
   "id": "68ab639a-75fc-4943-a0fa-5e477c50d2bb",
   "metadata": {},
   "source": [
    "### Title lengths"
   ]
  },
  {
   "cell_type": "code",
   "execution_count": 39,
   "id": "74cddf03-7b91-4e7e-8a6a-1ff9fada858a",
   "metadata": {},
   "outputs": [
    {
     "data": {
      "image/png": "[encoded data removed]",
      "text/plain": [
       "<Figure size 432x288 with 1 Axes>"
      ]
     },
     "metadata": {
      "needs_background": "light"
     },
     "output_type": "display_data"
    }
   ],
   "source": [
    "# Plot distribution of title lengths\n",
    "num_words = list(len(x) for x in df['title'].str.split())\n",
    "sns.histplot(num_words, binwidth=1)\n",
    "plt.title('Motion title length distribution')\n",
    "plt.xlabel('Number of characters')\n",
    "plt.ylabel('Motion count')\n",
    "plt.show()"
   ]
  },
  {
   "cell_type": "markdown",
   "id": "3dc03495-832a-4894-aa07-469bbffaeeac",
   "metadata": {},
   "source": [
    "The distribution as a whole looks reasonable. We've seen that certain titles are the same for multiple documents which may explain the slightly ragged shape."
   ]
  },
  {
   "cell_type": "markdown",
   "id": "a4cfc9f3-f596-49d5-b364-892c6ecbdb73",
   "metadata": {},
   "source": [
    "### Motion text length"
   ]
  },
  {
   "cell_type": "code",
   "execution_count": 40,
   "id": "48e9149d-4106-47ad-a88d-af05a20f4085",
   "metadata": {},
   "outputs": [
    {
     "data": {
      "image/png": "[encoded data removed]",
      "text/plain": [
       "<Figure size 432x288 with 1 Axes>"
      ]
     },
     "metadata": {
      "needs_background": "light"
     },
     "output_type": "display_data"
    }
   ],
   "source": [
    "# Plot distribution of text lengths\n",
    "sns.histplot(df['text'].str.len(), log_scale=True)\n",
    "plt.title('Motion title length distribution')\n",
    "plt.xlabel('Number of characters (log scale)')\n",
    "plt.ylabel('Motion count')\n",
    "plt.xlim(0, 100_000)\n",
    "plt.show()"
   ]
  },
  {
   "cell_type": "markdown",
   "id": "6d542019-d5f9-4382-bf30-d3c21d91e4fc",
   "metadata": {},
   "source": [
    "The median lengths is 2 700 and the mean is 5 500. It's quite common for a motion to be 10k characters or longer."
   ]
  }
 ],
 "metadata": {
  "kernelspec": {
   "display_name": "Python 3.9.12 ('swe-parl-mot-summarization')",
   "language": "python",
   "name": "python3"
  },
  "language_info": {
   "codemirror_mode": {
    "name": "ipython",
    "version": 3
   },
   "file_extension": ".py",
   "mimetype": "text/x-python",
   "name": "python",
   "nbconvert_exporter": "python",
   "pygments_lexer": "ipython3",
   "version": "3.9.13"
  },
  "vscode": {
   "interpreter": {
    "hash": "c8b4684d929b0e5f65a062924196a80e8ca5b6afcc06053ab7d36a264e586290"
   }
  }
 },
 "nbformat": 4,
 "nbformat_minor": 5
}
