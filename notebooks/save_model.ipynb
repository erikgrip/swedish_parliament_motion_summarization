{
 "cells": [
  {
   "attachments": {},
   "cell_type": "markdown",
   "metadata": {},
   "source": [
    "#### Save model to Huggingface Hub  \n",
    "\n",
    "Load trained model from checkpoint and push to HF Hub"
   ]
  },
  {
   "cell_type": "code",
   "execution_count": 1,
   "metadata": {},
   "outputs": [],
   "source": [
    "import argparse\n",
    "import sys\n",
    "import warnings\n",
    "import yaml\n",
    "\n",
    "from huggingface_hub import notebook_login\n",
    "from transformers.models.mt5 import MT5Tokenizer\n",
    "import pandas as pd\n",
    "\n",
    "sys.path.append('..')  # Allow import of project packages\n",
    "from text_summarizer.data.motions_data_module import MotionsDataModule\n",
    "from text_summarizer.models import t5\n",
    "from text_summarizer.lit_models import MT5LitModel\n",
    "from text_summarizer.util import summarize\n",
    "\n",
    "warnings.filterwarnings('ignore')\n",
    "pd.set_option('display.max_colwidth', 500)\n",
    "\n",
    "BASE_PATH = \"../training/logs/lightning_logs/version_2/\"\n",
    "MODEL_PATH = BASE_PATH + \"checkpoints/epoch=008-val_loss=1.36.ckpt\"\n",
    "HPARAMS_PATH =  BASE_PATH + \"hparams.yaml\"\n",
    "\n",
    "HF_USERNAME = \"erikgrip2\"\n",
    "HF_MODEL_NAME= \"mt5-finetuned-for-motion-title\""
   ]
  },
  {
   "cell_type": "code",
   "execution_count": 2,
   "metadata": {},
   "outputs": [],
   "source": [
    "with open(HPARAMS_PATH, \"r\") as hparams_file:\n",
    "   lightning_config = argparse.Namespace(**yaml.load(hparams_file, Loader=yaml.Loader))\n",
    "\n",
    "model = t5.MT5(data_config={}, args=lightning_config)\n",
    "\n",
    "lit_model = MT5LitModel.load_from_checkpoint(\n",
    "    checkpoint_path=MODEL_PATH,\n",
    "    model=model,\n",
    ")\n",
    "lit_model.eval()\n",
    "\n",
    "tokenizer = MT5Tokenizer.from_pretrained(model.model_name)"
   ]
  },
  {
   "cell_type": "code",
   "execution_count": 3,
   "metadata": {},
   "outputs": [],
   "source": [
    "SAVE_DIR = '../text_summarizer/artifacts'\n",
    "tokenizer.save_pretrained(SAVE_DIR)\n",
    "lit_model.model.model.save_pretrained(SAVE_DIR)"
   ]
  },
  {
   "cell_type": "code",
   "execution_count": 4,
   "metadata": {},
   "outputs": [
    {
     "data": {
      "application/vnd.jupyter.widget-view+json": {
       "model_id": "aae3b3b3854846a7960656c780dae272",
       "version_major": 2,
       "version_minor": 0
      },
      "text/plain": [
       "VBox(children=(HTML(value='<center> <img\\nsrc=https://huggingface.co/front/assets/huggingface_logo-noborder.sv…"
      ]
     },
     "metadata": {},
     "output_type": "display_data"
    }
   ],
   "source": [
    "notebook_login()"
   ]
  },
  {
   "attachments": {
    "image.png": {
     "image/png": "[encoded data removed]"
    }
   },
   "cell_type": "markdown",
   "metadata": {},
   "source": [
    "![image.png](attachment:image.png)"
   ]
  },
  {
   "cell_type": "code",
   "execution_count": 5,
   "metadata": {},
   "outputs": [
    {
     "ename": "ValueError",
     "evalue": "You must login to the Hugging Face hub on this computer by typing `transformers-cli login` and entering your credentials to use `use_auth_token=True`. Alternatively, you can pass your own token as the `use_auth_token` argument.",
     "output_type": "error",
     "traceback": [
      "\u001b[0;31m---------------------------------------------------------------------------\u001b[0m",
      "\u001b[0;31mValueError\u001b[0m                                Traceback (most recent call last)",
      "\u001b[1;32m/home/erik/proj/swedish_parliament_motion_summarization/notebooks/save_model.ipynb Cell 6\u001b[0m in \u001b[0;36m<cell line: 1>\u001b[0;34m()\u001b[0m\n\u001b[0;32m----> <a href='vscode-notebook-cell://wsl%2Bubuntu/home/erik/proj/swedish_parliament_motion_summarization/notebooks/save_model.ipynb#X10sdnNjb2RlLXJlbW90ZQ%3D%3D?line=0'>1</a>\u001b[0m lit_model\u001b[39m.\u001b[39;49mmodel\u001b[39m.\u001b[39;49mmodel\u001b[39m.\u001b[39;49mpush_to_hub(HF_USERNAME \u001b[39m+\u001b[39;49m \u001b[39m\"\u001b[39;49m\u001b[39m/\u001b[39;49m\u001b[39m\"\u001b[39;49m \u001b[39m+\u001b[39;49m HF_MODEL_NAME)\n",
      "File \u001b[0;32m~/miniconda3/envs/swe-parl-mot-summarization/lib/python3.9/site-packages/transformers/modeling_utils.py:2668\u001b[0m, in \u001b[0;36mPreTrainedModel.push_to_hub\u001b[0;34m(self, repo_path_or_name, repo_url, use_temp_dir, commit_message, organization, private, use_auth_token, max_shard_size, **model_card_kwargs)\u001b[0m\n\u001b[1;32m   2665\u001b[0m     repo_path_or_name \u001b[39m=\u001b[39m tempfile\u001b[39m.\u001b[39mmkdtemp()\n\u001b[1;32m   2667\u001b[0m \u001b[39m# Create or clone the repo. If the repo is already cloned, this just retrieves the path to the repo.\u001b[39;00m\n\u001b[0;32m-> 2668\u001b[0m repo \u001b[39m=\u001b[39m \u001b[39mself\u001b[39;49m\u001b[39m.\u001b[39;49m_create_or_get_repo(\n\u001b[1;32m   2669\u001b[0m     repo_path_or_name\u001b[39m=\u001b[39;49mrepo_path_or_name,\n\u001b[1;32m   2670\u001b[0m     repo_url\u001b[39m=\u001b[39;49mrepo_url,\n\u001b[1;32m   2671\u001b[0m     organization\u001b[39m=\u001b[39;49morganization,\n\u001b[1;32m   2672\u001b[0m     private\u001b[39m=\u001b[39;49mprivate,\n\u001b[1;32m   2673\u001b[0m     use_auth_token\u001b[39m=\u001b[39;49muse_auth_token,\n\u001b[1;32m   2674\u001b[0m )\n\u001b[1;32m   2675\u001b[0m \u001b[39m# Save the files in the cloned repo\u001b[39;00m\n\u001b[1;32m   2676\u001b[0m \u001b[39mself\u001b[39m\u001b[39m.\u001b[39msave_pretrained(repo_path_or_name, max_shard_size\u001b[39m=\u001b[39mmax_shard_size)\n",
      "File \u001b[0;32m~/miniconda3/envs/swe-parl-mot-summarization/lib/python3.9/site-packages/transformers/utils/hub.py:1007\u001b[0m, in \u001b[0;36mPushToHubMixin._create_or_get_repo\u001b[0;34m(cls, repo_path_or_name, repo_url, organization, private, use_auth_token)\u001b[0m\n\u001b[1;32m   1005\u001b[0m \u001b[39mif\u001b[39;00m repo_url \u001b[39mis\u001b[39;00m \u001b[39mNone\u001b[39;00m \u001b[39mand\u001b[39;00m \u001b[39mnot\u001b[39;00m os\u001b[39m.\u001b[39mpath\u001b[39m.\u001b[39mexists(repo_path_or_name):\n\u001b[1;32m   1006\u001b[0m     repo_name \u001b[39m=\u001b[39m Path(repo_path_or_name)\u001b[39m.\u001b[39mname\n\u001b[0;32m-> 1007\u001b[0m     repo_url \u001b[39m=\u001b[39m \u001b[39mcls\u001b[39;49m\u001b[39m.\u001b[39;49m_get_repo_url_from_name(\n\u001b[1;32m   1008\u001b[0m         repo_name, organization\u001b[39m=\u001b[39;49morganization, private\u001b[39m=\u001b[39;49mprivate, use_auth_token\u001b[39m=\u001b[39;49muse_auth_token\n\u001b[1;32m   1009\u001b[0m     )\n\u001b[1;32m   1011\u001b[0m \u001b[39m# Create a working directory if it does not exist.\u001b[39;00m\n\u001b[1;32m   1012\u001b[0m \u001b[39mif\u001b[39;00m \u001b[39mnot\u001b[39;00m os\u001b[39m.\u001b[39mpath\u001b[39m.\u001b[39mexists(repo_path_or_name):\n",
      "File \u001b[0;32m~/miniconda3/envs/swe-parl-mot-summarization/lib/python3.9/site-packages/transformers/utils/hub.py:969\u001b[0m, in \u001b[0;36mPushToHubMixin._get_repo_url_from_name\u001b[0;34m(repo_name, organization, private, use_auth_token)\u001b[0m\n\u001b[1;32m    967\u001b[0m     token \u001b[39m=\u001b[39m HfFolder\u001b[39m.\u001b[39mget_token()\n\u001b[1;32m    968\u001b[0m     \u001b[39mif\u001b[39;00m token \u001b[39mis\u001b[39;00m \u001b[39mNone\u001b[39;00m:\n\u001b[0;32m--> 969\u001b[0m         \u001b[39mraise\u001b[39;00m \u001b[39mValueError\u001b[39;00m(\n\u001b[1;32m    970\u001b[0m             \u001b[39m\"\u001b[39m\u001b[39mYou must login to the Hugging Face hub on this computer by typing `transformers-cli login` and \u001b[39m\u001b[39m\"\u001b[39m\n\u001b[1;32m    971\u001b[0m             \u001b[39m\"\u001b[39m\u001b[39mentering your credentials to use `use_auth_token=True`. Alternatively, you can pass your own \u001b[39m\u001b[39m\"\u001b[39m\n\u001b[1;32m    972\u001b[0m             \u001b[39m\"\u001b[39m\u001b[39mtoken as the `use_auth_token` argument.\u001b[39m\u001b[39m\"\u001b[39m\n\u001b[1;32m    973\u001b[0m         )\n\u001b[1;32m    974\u001b[0m \u001b[39melse\u001b[39;00m:\n\u001b[1;32m    975\u001b[0m     token \u001b[39m=\u001b[39m \u001b[39mNone\u001b[39;00m\n",
      "\u001b[0;31mValueError\u001b[0m: You must login to the Hugging Face hub on this computer by typing `transformers-cli login` and entering your credentials to use `use_auth_token=True`. Alternatively, you can pass your own token as the `use_auth_token` argument."
     ]
    }
   ],
   "source": [
    "lit_model.model.model.push_to_hub(HF_USERNAME + \"/\" + HF_MODEL_NAME)"
   ]
  },
  {
   "cell_type": "code",
   "execution_count": 7,
   "metadata": {},
   "outputs": [
    {
     "data": {
      "text/plain": [
       "'8.0.4'"
      ]
     },
     "execution_count": 7,
     "metadata": {},
     "output_type": "execute_result"
    }
   ],
   "source": [
    "import ipywidgets\n",
    "\n",
    "ipywidgets.__version__"
   ]
  },
  {
   "cell_type": "code",
   "execution_count": 2,
   "metadata": {},
   "outputs": [],
   "source": []
  },
  {
   "cell_type": "code",
   "execution_count": 3,
   "metadata": {},
   "outputs": [
    {
     "data": {
      "text/plain": [
       "0"
      ]
     },
     "execution_count": 3,
     "metadata": {},
     "output_type": "execute_result"
    }
   ],
   "source": []
  }
 ],
 "metadata": {
  "kernelspec": {
   "display_name": "swe-parl-mot-summarization",
   "language": "python",
   "name": "python3"
  },
  "language_info": {
   "codemirror_mode": {
    "name": "ipython",
    "version": 3
   },
   "file_extension": ".py",
   "mimetype": "text/x-python",
   "name": "python",
   "nbconvert_exporter": "python",
   "pygments_lexer": "ipython3",
   "version": "3.9.13"
  },
  "orig_nbformat": 4,
  "vscode": {
   "interpreter": {
    "hash": "c8b4684d929b0e5f65a062924196a80e8ca5b6afcc06053ab7d36a264e586290"
   }
  }
 },
 "nbformat": 4,
 "nbformat_minor": 2
}
