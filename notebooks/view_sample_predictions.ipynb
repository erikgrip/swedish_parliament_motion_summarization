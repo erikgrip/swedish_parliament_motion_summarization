{
    "cells": [
        {
            "cell_type": "markdown",
            "id": "a43587bf-8bc6-46ce-9345-fc1691e99498",
            "metadata": {},
            "source": [
                "# View sample predictions\n",
                "\n",
                "Trained model from checkpoint"
            ]
        },
        {
            "cell_type": "code",
            "execution_count": 7,
            "id": "c77d35f0-47b5-4f9c-bcb0-002049e5fdfe",
            "metadata": {},
            "outputs": [],
            "source": [
                "import argparse\n",
                "import random\n",
                "import sys\n",
                "import warnings\n",
                "import yaml\n",
                "\n",
                "from transformers.models.mt5 import MT5Tokenizer\n",
                "import pandas as pd\n",
                "\n",
                "sys.path.append('..')  # Allow import of project packages\n",
                "from text_summarizer.data.motions_data_module import MotionsDataModule\n",
                "from text_summarizer.models import t5\n",
                "from text_summarizer.lit_models import MT5LitModel\n",
                "from text_summarizer.util import summarize\n",
                "\n",
                "warnings.filterwarnings('ignore')\n",
                "pd.set_option('display.max_colwidth', 500)\n",
                "\n",
                "BASE_PATH = \"../training/logs/lightning_logs/version_1/\"\n",
                "MODEL_PATH = BASE_PATH + \"checkpoints/epoch=009-val_loss=1.242.ckpt\"\n",
                "HPARAMS_PATH =  BASE_PATH + \"hparams.yaml\"\n",
                "RANDOM_STATE = 1"
            ]
        },
        {
            "cell_type": "code",
            "execution_count": 5,
            "id": "b850804a",
            "metadata": {},
            "outputs": [
                {
                    "name": "stdout",
                    "output_type": "stream",
                    "text": [
                        "Filtered 618 rows with missing values.\n",
                        "Filtered 7444 texts shorter than 150 characters.\n",
                        "Number of rows remaining: 161989\n",
                        "Using 161989 of 161989 examples.\n",
                        "Train: 113392, Val: 24298, Test: 24299\n",
                        "<text_summarizer.data.motions_data_module.MotionsDataModule object at 0x7f76ff150850>\n"
                    ]
                }
            ],
            "source": [
                "# Load pytorch-lightning experiment args\n",
                "with open(HPARAMS_PATH, \"r\") as hparams_file:\n",
                "   lightning_config = argparse.Namespace(**yaml.load(hparams_file, Loader=yaml.Loader))\n",
                "\n",
                "dataset = MotionsDataModule(lightning_config)\n",
                "dataset.prepare_data()\n",
                "dataset.setup()\n",
                "print(dataset)"
            ]
        },
        {
            "cell_type": "markdown",
            "id": "61f80921",
            "metadata": {},
            "source": [
                "### Load model"
            ]
        },
        {
            "cell_type": "code",
            "execution_count": 6,
            "id": "c1dfec9b",
            "metadata": {},
            "outputs": [],
            "source": [
                "# Instanciate model to pass to lit_model\n",
                "model = t5.MT5(data_config={}, args=lightning_config)\n",
                "\n",
                "lit_model = MT5LitModel.load_from_checkpoint(\n",
                "    checkpoint_path=MODEL_PATH,\n",
                "    model=model,\n",
                ")\n",
                "lit_model.eval()\n",
                "\n",
                "tokenizer = MT5Tokenizer.from_pretrained(model.model_name)"
            ]
        },
        {
            "cell_type": "markdown",
            "id": "06018d06",
            "metadata": {},
            "source": [
                "### Load data"
            ]
        },
        {
            "cell_type": "code",
            "execution_count": 59,
            "id": "8b09fd5e",
            "metadata": {},
            "outputs": [],
            "source": [
                "def summarize(model, text, tokenizer, text_max_num_tokens, summary_max_num_tokens):\n",
                "    text_encoding = tokenizer(\n",
                "        text,\n",
                "        max_length=text_max_num_tokens,\n",
                "        padding=\"max_length\",\n",
                "        truncation=True,\n",
                "        return_attention_mask=True,\n",
                "        add_special_tokens=True,\n",
                "        return_tensors=\"pt\",\n",
                "    )\n",
                "\n",
                "    generated_ids = model.model.generate(\n",
                "        input_ids=text_encoding[\"input_ids\"],\n",
                "        attention_mask=text_encoding[\"attention_mask\"],\n",
                "        max_length=summary_max_num_tokens,\n",
                "        num_beams=2,\n",
                "        repetition_penalty=5.0,\n",
                "        length_penalty=2.0,\n",
                "        early_stopping=True,\n",
                "    )\n",
                "\n",
                "    preds = [\n",
                "        tokenizer.decode(\n",
                "            gen_id, skip_special_tokens=True, clean_up_tokenization_spaces=True\n",
                "        )\n",
                "        for gen_id in generated_ids\n",
                "    ]\n",
                "\n",
                "    return \"\".join(preds)"
            ]
        },
        {
            "cell_type": "code",
            "execution_count": 60,
            "id": "dc1df9ab",
            "metadata": {},
            "outputs": [
                {
                    "name": "stdout",
                    "output_type": "stream",
                    "text": [
                        "Motion text:\n",
                        "--------------------------------------------------\n",
                        "Vi har i vår motion om den allmänna inriktningen av den ekonomiska politiken m. m. bl. a. föreslagit att-som ett led i ett stöd till de särskilt utsatta grupperna - en temporär höjning skall ske av studiebidraget inom studiehjälpssystemet och det förlängda barnbidraget. Den temporära höjningen bör utgå med nio tolftedelar av det föreslagna beloppet för extra tillägg till barnbidraget (500 kr.), dvs. 375 kr. Utbetalningen bör göras så snart som möjligt efter början av höstterminen 1978 och ha for\n",
                        "--------------------------------------------------\n",
                        "Actual title:\n",
                        "med anledning av propositionen 1977/78:150 med förslag till slutlig reglering av statsbudgeten för budgetåret 1978/79, m. m. (kompletteringsproposition)\n",
                        "--------------------------------------------------\n",
                        "Predicted title:\n",
                        "om vidgad rätt till studiebidrag\n",
                        "--------------------------------------------------\n"
                    ]
                }
            ],
            "source": [
                "def show_sample_pred(tokenizer):\n",
                "    sample_index = random.randint(0, len(dataset.data_test.data))\n",
                "    text = dataset.data_test.data[sample_index]\n",
                "    true_summary = dataset.data_test.targets[sample_index]\n",
                "    model_summary = summarize(\n",
                "        model=model,\n",
                "        text=text,\n",
                "        tokenizer=tokenizer,\n",
                "        text_max_num_tokens=512,\n",
                "        summary_max_num_tokens=64\n",
                "    )\n",
                "    print(\"Motion text:\")\n",
                "    print(50*\"-\")\n",
                "    print(text[:500])\n",
                "    print(50*\"-\")\n",
                "    print(\"Actual title:\")\n",
                "    print(true_summary)\n",
                "    print(50*\"-\")\n",
                "    print(\"Predicted title:\")\n",
                "    print(model_summary)\n",
                "    print(50*\"-\")\n",
                "\n",
                "show_sample_pred(lit_model.tokenizer)"
            ]
        },
        {
            "cell_type": "code",
            "execution_count": null,
            "id": "b551e6ce",
            "metadata": {},
            "outputs": [],
            "source": []
        },
        {
            "cell_type": "code",
            "execution_count": null,
            "id": "93b2e4da",
            "metadata": {},
            "outputs": [],
            "source": []
        }
    ],
    "metadata": {
        "kernelspec": {
            "display_name": "Python 3.9.12 ('swe-parl-mot-summarization')",
            "language": "python",
            "name": "python3"
        },
        "language_info": {
            "codemirror_mode": {
                "name": "ipython",
                "version": 3
            },
            "file_extension": ".py",
            "mimetype": "text/x-python",
            "name": "python",
            "nbconvert_exporter": "python",
            "pygments_lexer": "ipython3",
            "version": "3.9.13"
        },
        "vscode": {
            "interpreter": {
                "hash": "c8b4684d929b0e5f65a062924196a80e8ca5b6afcc06053ab7d36a264e586290"
            }
        }
    },
    "nbformat": 4,
    "nbformat_minor": 5
}
