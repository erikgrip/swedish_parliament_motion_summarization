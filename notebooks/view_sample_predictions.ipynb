{
    "cells": [
        {
            "cell_type": "markdown",
            "id": "a43587bf-8bc6-46ce-9345-fc1691e99498",
            "metadata": {},
            "source": [
                "# View sample predictions\n",
                "\n",
                "Trained model from checkpoint"
            ]
        },
        {
            "cell_type": "code",
            "execution_count": 7,
            "id": "c77d35f0-47b5-4f9c-bcb0-002049e5fdfe",
            "metadata": {},
            "outputs": [],
            "source": [
                "import argparse\n",
                "import random\n",
                "import sys\n",
                "import warnings\n",
                "import yaml\n",
                "\n",
                "from transformers.models.mt5 import MT5Tokenizer\n",
                "import pandas as pd\n",
                "\n",
                "sys.path.append('..')  # Allow import of project packages\n",
                "from text_summarizer.data.motions_data_module import MotionsDataModule\n",
                "from text_summarizer.models import t5\n",
                "from text_summarizer.lit_models import MT5LitModel\n",
                "from text_summarizer.util import summarize\n",
                "\n",
                "warnings.filterwarnings('ignore')\n",
                "pd.set_option('display.max_colwidth', 500)\n",
                "\n",
                "BASE_PATH = \"../training/logs/lightning_logs/version_17/\"\n",
                "MODEL_PATH = BASE_PATH + \"checkpoints/epoch=009-val_loss=0.000-val_cer=0.000.ckpt\"\n",
                "CONFIG_PATH = BASE_PATH + \"config.json\"\n",
                "HPARAMS_PATH =  BASE_PATH + \"hparams.yaml\"\n",
                "RANDOM_STATE = 1"
            ]
        },
        {
            "cell_type": "code",
            "execution_count": 8,
            "id": "b850804a",
            "metadata": {},
            "outputs": [
                {
                    "name": "stdout",
                    "output_type": "stream",
                    "text": [
                        "Filtered 618 rows with missing values.\n",
                        "Filtered 7444 texts shorter than 150 characters.\n",
                        "Number of rows remaining: 161989\n",
                        "Using 161989 of 161989 examples.\n",
                        "Train: 113392, Val: 24298, Test: 24299\n",
                        "<text_summarizer.data.motions_data_module.MotionsDataModule object at 0x7f9454510850>\n"
                    ]
                }
            ],
            "source": [
                "# Load pytorch-lightning experiment args\n",
                "with open(HPARAMS_PATH, \"r\") as hparams_file:\n",
                "   lightning_config = argparse.Namespace(**yaml.load(hparams_file, Loader=yaml.Loader))\n",
                "\n",
                "dataset = MotionsDataModule(lightning_config)\n",
                "dataset.prepare_data()\n",
                "dataset.setup()\n",
                "print(dataset)"
            ]
        },
        {
            "cell_type": "markdown",
            "id": "61f80921",
            "metadata": {},
            "source": [
                "### Load model"
            ]
        },
        {
            "cell_type": "code",
            "execution_count": 9,
            "id": "c1dfec9b",
            "metadata": {},
            "outputs": [],
            "source": [
                "# Instanciate model to pass to lit_model\n",
                "model = t5.MT5(data_config={}, args=lightning_config)\n",
                "\n",
                "lit_model = MT5LitModel.load_from_checkpoint(\n",
                "    checkpoint_path=MODEL_PATH,\n",
                "    model=model,\n",
                ")\n",
                "lit_model.eval()\n",
                "\n",
                "tokenizer = MT5Tokenizer.from_pretrained(model.model_name)"
            ]
        },
        {
            "cell_type": "markdown",
            "id": "06018d06",
            "metadata": {},
            "source": [
                "### Load data"
            ]
        },
        {
            "cell_type": "code",
            "execution_count": 10,
            "id": "8b09fd5e",
            "metadata": {},
            "outputs": [],
            "source": [
                "def summarize(model, text, tokenizer, text_max_num_tokens, summary_max_num_tokens):\n",
                "    text_encoding = tokenizer(\n",
                "        text,\n",
                "        max_length=text_max_num_tokens,\n",
                "        padding=\"max_length\",\n",
                "        truncation=True,\n",
                "        return_attention_mask=True,\n",
                "        add_special_tokens=True,\n",
                "        return_tensors=\"pt\",\n",
                "    )\n",
                "\n",
                "    generated_ids = model.model.generate(\n",
                "        input_ids=text_encoding[\"input_ids\"],\n",
                "        attention_mask=text_encoding[\"attention_mask\"],\n",
                "        max_length=summary_max_num_tokens,\n",
                "        num_beams=2,\n",
                "        repetition_penalty=5.0,\n",
                "        length_penalty=2.0,\n",
                "        early_stopping=True,\n",
                "    )\n",
                "\n",
                "    preds = [\n",
                "        tokenizer.decode(\n",
                "            gen_id, skip_special_tokens=True, clean_up_tokenization_spaces=True\n",
                "        )\n",
                "        for gen_id in generated_ids\n",
                "    ]\n",
                "\n",
                "    return \"\".join(preds)"
            ]
        },
        {
            "cell_type": "code",
            "execution_count": 11,
            "id": "dc1df9ab",
            "metadata": {},
            "outputs": [
                {
                    "name": "stdout",
                    "output_type": "stream",
                    "text": [
                        "Motion text:\n",
                        "--------------------------------------------------\n",
                        "Genom riksdagens beslut (CU 1976/77:18 s. 36-37, 64-65) höjdes övre lånegränserna för bostadslån för nybyggnad när det gällde i huvudsak enskilt ägda hyreshus från 85 till 92 96 av pantvärdet. I reservation (s) hävdades att detta endast gav enskilda fastighetsägare en resultatförbättring men att de bostadspolitiska målen - ytterst de boendes intressen - inte främjades. Vi har fortfarande samma ståndpunkt som den i reservationen anförda och anser att lånegränsen bör sänkas till tidigare nivå 85 %\n",
                        "--------------------------------------------------\n",
                        "Actual title:\n",
                        "om sänkning av lånegränsen för bostadslån\n",
                        "--------------------------------------------------\n",
                        "Predicted title:\n",
                        "om höjt anslag till lånefonden för bostadsbyggande\n",
                        "--------------------------------------------------\n"
                    ]
                }
            ],
            "source": [
                "def show_sample_pred(tokenizer):\n",
                "    sample_index = random.randint(0, len(dataset.data_test.data))\n",
                "    text = dataset.data_test.data[sample_index]\n",
                "    true_summary = dataset.data_test.targets[sample_index]\n",
                "    model_summary = summarize(\n",
                "        model=model,\n",
                "        text=text,\n",
                "        tokenizer=tokenizer,\n",
                "        text_max_num_tokens=512,\n",
                "        summary_max_num_tokens=64\n",
                "    )\n",
                "    print(\"Motion text:\")\n",
                "    print(50*\"-\")\n",
                "    print(text[:500])\n",
                "    print(50*\"-\")\n",
                "    print(\"Actual title:\")\n",
                "    print(true_summary)\n",
                "    print(50*\"-\")\n",
                "    print(\"Predicted title:\")\n",
                "    print(model_summary)\n",
                "    print(50*\"-\")\n",
                "\n",
                "show_sample_pred(lit_model.tokenizer)"
            ]
        }
    ],
    "metadata": {
        "kernelspec": {
            "display_name": "Python 3.9.12 ('swe-parl-mot-summarization')",
            "language": "python",
            "name": "python3"
        },
        "language_info": {
            "codemirror_mode": {
                "name": "ipython",
                "version": 3
            },
            "file_extension": ".py",
            "mimetype": "text/x-python",
            "name": "python",
            "nbconvert_exporter": "python",
            "pygments_lexer": "ipython3",
            "version": "3.9.13"
        },
        "vscode": {
            "interpreter": {
                "hash": "c8b4684d929b0e5f65a062924196a80e8ca5b6afcc06053ab7d36a264e586290"
            }
        }
    },
    "nbformat": 4,
    "nbformat_minor": 5
}
