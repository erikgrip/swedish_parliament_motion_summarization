{
    "cells": [
        {
            "cell_type": "markdown",
            "id": "a43587bf-8bc6-46ce-9345-fc1691e99498",
            "metadata": {},
            "source": [
                "# View sample predictions\n",
                "\n",
                "Trained model from checkpoint"
            ]
        },
        {
            "cell_type": "code",
            "execution_count": 1,
            "id": "c77d35f0-47b5-4f9c-bcb0-002049e5fdfe",
            "metadata": {},
            "outputs": [
                {
                    "name": "stderr",
                    "output_type": "stream",
                    "text": [
                        "/home/erik/miniconda3/envs/swe-parl-mot-summarization/lib/python3.9/site-packages/tqdm/auto.py:22: TqdmWarning: IProgress not found. Please update jupyter and ipywidgets. See https://ipywidgets.readthedocs.io/en/stable/user_install.html\n",
                        "  from .autonotebook import tqdm as notebook_tqdm\n"
                    ]
                }
            ],
            "source": [
                "import argparse\n",
                "import random\n",
                "import sys\n",
                "import warnings\n",
                "\n",
                "import pandas as pd\n",
                "import yaml\n",
                "\n",
                "from transformers.models.mt5 import MT5Tokenizer\n",
                "\n",
                "sys.path.append('..')  # Allow import of project packages\n",
                "from motion_title_generator.data.motions_data_module import MotionsDataModule\n",
                "from motion_title_generator.models import t5\n",
                "from motion_title_generator.lit_models import MT5LitModel\n",
                "\n",
                "warnings.filterwarnings('ignore')\n",
                "pd.set_option('display.max_colwidth', 500)\n",
                "\n",
                "BASE_PATH = \"../training/logs/lightning_logs/version_1/\"\n",
                "MODEL_PATH = BASE_PATH + \"checkpoints/epoch=009-val_loss=1.242.ckpt\"\n",
                "HPARAMS_PATH =  BASE_PATH + \"hparams.yaml\""
            ]
        },
        {
            "cell_type": "markdown",
            "id": "d3b188f8",
            "metadata": {},
            "source": [
                "### Load data"
            ]
        },
        {
            "cell_type": "code",
            "execution_count": 2,
            "id": "b850804a",
            "metadata": {},
            "outputs": [
                {
                    "name": "stdout",
                    "output_type": "stream",
                    "text": [
                        "Preprocessing data ...\n",
                        "Filtered 618 rows with missing values.\n",
                        "Filtered 7444 texts shorter than 150 characters.\n",
                        "Filtered 16919 texts with generic title.\n",
                        "Number of rows remaining: 145070\n",
                        "Preprocessed data saved to /home/erik/proj/swedish_parliament_motion_summarization/data/downloaded/prepped_training_data.feather\n",
                        "Using 145070 of 145070 examples.\n",
                        "Train: 108802, Val: 21760, Test: 14508\n",
                        "<motion_title_generator.data.motions_data_module.MotionsDataModule object at 0x7efedc76db50>\n"
                    ]
                }
            ],
            "source": [
                "# Load pytorch-lightning experiment args\n",
                "with open(HPARAMS_PATH, \"r\") as hparams_file:\n",
                "   lightning_config = argparse.Namespace(**yaml.load(hparams_file, Loader=yaml.Loader))\n",
                "\n",
                "dataset = MotionsDataModule(lightning_config)\n",
                "dataset.prepare_data()\n",
                "dataset.setup()\n",
                "print(dataset)"
            ]
        },
        {
            "cell_type": "markdown",
            "id": "61f80921",
            "metadata": {},
            "source": [
                "### Load model"
            ]
        },
        {
            "cell_type": "code",
            "execution_count": 3,
            "id": "c1dfec9b",
            "metadata": {},
            "outputs": [
                {
                    "name": "stderr",
                    "output_type": "stream",
                    "text": [
                        "Lightning automatically upgraded your loaded checkpoint from v1.6.4 to v2.0.2. To apply the upgrade to your files permanently, run `python -m pytorch_lightning.utilities.upgrade_checkpoint --file ../training/logs/lightning_logs/version_1/checkpoints/epoch=009-val_loss=1.242.ckpt`\n"
                    ]
                }
            ],
            "source": [
                "# Instanciate model to pass to lit_model\n",
                "model = t5.MT5(data_config={}, args=lightning_config)\n",
                "\n",
                "lit_model = MT5LitModel.load_from_checkpoint(\n",
                "    checkpoint_path=MODEL_PATH,\n",
                "    model=model,\n",
                ")\n",
                "lit_model.eval()\n",
                "\n",
                "tokenizer = MT5Tokenizer.from_pretrained(model.model_name)"
            ]
        },
        {
            "attachments": {},
            "cell_type": "markdown",
            "id": "f636e6ba",
            "metadata": {},
            "source": [
                "### Generate title"
            ]
        },
        {
            "cell_type": "code",
            "execution_count": 18,
            "id": "8b09fd5e",
            "metadata": {},
            "outputs": [],
            "source": [
                "def summarize(model, text, tokenizer, text_max_num_tokens, summary_max_num_tokens):\n",
                "    text_encoding = tokenizer(\n",
                "        text,\n",
                "        max_length=text_max_num_tokens,\n",
                "        padding=\"max_length\",\n",
                "        truncation=True,\n",
                "        return_attention_mask=True,\n",
                "        add_special_tokens=True,\n",
                "        return_tensors=\"pt\",\n",
                "    )\n",
                "\n",
                "    model.model.to(\"cpu\")\n",
                "    generated_ids = model.model.generate(\n",
                "        input_ids=text_encoding[\"input_ids\"],\n",
                "        attention_mask=text_encoding[\"attention_mask\"],\n",
                "        max_length=summary_max_num_tokens,\n",
                "        num_beams=2,\n",
                "        repetition_penalty=5.0,\n",
                "        length_penalty=2.0,\n",
                "        early_stopping=True,\n",
                "    )\n",
                "\n",
                "    preds = [\n",
                "        tokenizer.decode(\n",
                "            gen_id, skip_special_tokens=True, clean_up_tokenization_spaces=True\n",
                "        )\n",
                "        for gen_id in generated_ids\n",
                "    ]\n",
                "\n",
                "    return \"\".join(preds)"
            ]
        },
        {
            "cell_type": "code",
            "execution_count": 19,
            "id": "dc1df9ab",
            "metadata": {},
            "outputs": [
                {
                    "name": "stdout",
                    "output_type": "stream",
                    "text": [
                        "Motion text:\n",
                        "--------------------------------------------------\n",
                        "Arbetsmarknaden på både scen och medieområdet har förändrats kraftigt under senare år. På scenkonstområdet (teater, musikteater och dans) är allt färre fast anställda och alltfler frilansare. Medieområdet (film, tv, radio och nya medier) har alltid kännetecknats av frilansare. Men också utvecklingen på medieområdet har gått mot en ytterligare fragmentiserad arbetsmarknad med arbetsgivare eller uppdragsgivare som inte kan eller vill ta ett mer långsiktigt ansvar för sina korttidsanställda. Denna \n",
                        "--------------------------------------------------\n",
                        "Actual title:\n",
                        "Kompetensutveckling inom scenkonst och film\n",
                        "--------------------------------------------------\n",
                        "Predicted title:\n",
                        "Kompetensutveckling inom scenkonst och film\n",
                        "--------------------------------------------------\n"
                    ]
                }
            ],
            "source": [
                "def show_sample_pred(tokenizer):\n",
                "    sample_index = random.randint(0, len(dataset.data_test.data))\n",
                "    text = dataset.data_test.data[sample_index]\n",
                "    true_summary = dataset.data_test.targets[sample_index]\n",
                "    \n",
                "    model_summary = summarize(\n",
                "        model=model,\n",
                "        text=text,\n",
                "        tokenizer=tokenizer,\n",
                "        text_max_num_tokens=512,\n",
                "        summary_max_num_tokens=64\n",
                "    )\n",
                "    print(\"Motion text:\")\n",
                "    print(50*\"-\")\n",
                "    print(text[:500])\n",
                "    print(50*\"-\")\n",
                "    print(\"Actual title:\")\n",
                "    print(true_summary)\n",
                "    print(50*\"-\")\n",
                "    print(\"Predicted title:\")\n",
                "    print(model_summary)\n",
                "    print(50*\"-\")\n",
                "\n",
                "show_sample_pred(lit_model.tokenizer)"
            ]
        },
        {
            "cell_type": "code",
            "execution_count": null,
            "id": "d2d88f48",
            "metadata": {},
            "outputs": [],
            "source": []
        }
    ],
    "metadata": {
        "kernelspec": {
            "display_name": "Python 3.9.12 ('swe-parl-mot-summarization')",
            "language": "python",
            "name": "python3"
        },
        "language_info": {
            "codemirror_mode": {
                "name": "ipython",
                "version": 3
            },
            "file_extension": ".py",
            "mimetype": "text/x-python",
            "name": "python",
            "nbconvert_exporter": "python",
            "pygments_lexer": "ipython3",
            "version": "3.9.13"
        },
        "vscode": {
            "interpreter": {
                "hash": "c8b4684d929b0e5f65a062924196a80e8ca5b6afcc06053ab7d36a264e586290"
            }
        }
    },
    "nbformat": 4,
    "nbformat_minor": 5
}
