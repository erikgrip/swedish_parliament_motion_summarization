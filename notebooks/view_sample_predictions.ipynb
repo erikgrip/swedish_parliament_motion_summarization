{
    "cells": [
        {
            "cell_type": "markdown",
            "id": "a43587bf-8bc6-46ce-9345-fc1691e99498",
            "metadata": {},
            "source": [
                "# View sample predictions\n",
                "\n",
                "Trained model from checkpoint"
            ]
        },
        {
            "cell_type": "code",
            "execution_count": 1,
            "id": "c77d35f0-47b5-4f9c-bcb0-002049e5fdfe",
            "metadata": {},
            "outputs": [
                {
                    "name": "stderr",
                    "output_type": "stream",
                    "text": [
                        "/home/erik/miniconda3/envs/swe-parl-mot-summarization/lib/python3.9/site-packages/tqdm/auto.py:22: TqdmWarning: IProgress not found. Please update jupyter and ipywidgets. See https://ipywidgets.readthedocs.io/en/stable/user_install.html\n",
                        "  from .autonotebook import tqdm as notebook_tqdm\n"
                    ]
                }
            ],
            "source": [
                "import argparse\n",
                "import random\n",
                "import sys\n",
                "import warnings\n",
                "\n",
                "from transformers.models.mt5 import MT5Tokenizer\n",
                "import pandas as pd\n",
                "\n",
                "sys.path.append('..')  # Allow import of project packages\n",
                "from text_summarizer.data.motions_data_module import MotionsDataModule\n",
                "from text_summarizer.models import t5\n",
                "from text_summarizer.lit_models import MT5LitModel\n",
                "from text_summarizer.util import summarize"
            ]
        },
        {
            "cell_type": "code",
            "execution_count": 2,
            "id": "b850804a",
            "metadata": {},
            "outputs": [
                {
                    "name": "stdout",
                    "output_type": "stream",
                    "text": [
                        "Filtered 618 rows with missing values.\n",
                        "Filtered 7444 texts shorter than 150 characters.\n",
                        "Number of rows remaining: 161989\n",
                        "Using 161989 of 161989 examples.\n",
                        "Train: 113392, Val: 24298, Test: 24299\n",
                        "<text_summarizer.data.motions_data_module.MotionsDataModule object at 0x7f0ee4525dc0>\n"
                    ]
                }
            ],
            "source": [
                "dataset = MotionsDataModule(args=argparse.Namespace())\n",
                "dataset.prepare_data()\n",
                "dataset.setup()\n",
                "print(dataset)"
            ]
        },
        {
            "cell_type": "code",
            "execution_count": 3,
            "id": "9fcdfd10",
            "metadata": {},
            "outputs": [],
            "source": [
                "warnings.filterwarnings('ignore')\n",
                "pd.set_option('display.max_colwidth', 500)\n",
                " \n",
                "MODEL_PATH = \"../training/logs/lightning_logs/version_17/checkpoints/epoch=009-val_loss=0.000-val_cer=0.000.ckpt\"\n",
                "RANDOM_STATE = 1"
            ]
        },
        {
            "cell_type": "markdown",
            "id": "61f80921",
            "metadata": {},
            "source": [
                "### Load model"
            ]
        },
        {
            "cell_type": "code",
            "execution_count": 4,
            "id": "c1dfec9b",
            "metadata": {},
            "outputs": [],
            "source": [
                "model = t5.MT5(\n",
                "    data_config=dataset.config(),\n",
                "    args=argparse.Namespace()\n",
                ")\n",
                "\n",
                "lit_model = MT5LitModel.load_from_checkpoint(\n",
                "    checkpoint_path=MODEL_PATH,\n",
                "    model=model\n",
                ")\n",
                "lit_model.freeze()\n",
                "\n",
                "tokenizer = MT5Tokenizer.from_pretrained(model.model_name)"
            ]
        },
        {
            "cell_type": "markdown",
            "id": "06018d06",
            "metadata": {},
            "source": [
                "### Load data"
            ]
        },
        {
            "cell_type": "code",
            "execution_count": 6,
            "id": "8b09fd5e",
            "metadata": {},
            "outputs": [],
            "source": [
                "def summarize(model, text, tokenizer, text_max_num_tokens, summary_max_num_tokens):\n",
                "    text_encoding = tokenizer(\n",
                "        text,\n",
                "        max_length=text_max_num_tokens,\n",
                "        padding=\"max_length\",\n",
                "        truncation=True,\n",
                "        return_attention_mask=True,\n",
                "        add_special_tokens=True,\n",
                "        return_tensors=\"pt\",\n",
                "    )\n",
                "\n",
                "    generated_ids = model.model.generate(\n",
                "        input_ids=text_encoding[\"input_ids\"],\n",
                "        attention_mask=text_encoding[\"attention_mask\"],\n",
                "        max_length=summary_max_num_tokens,\n",
                "        num_beams=2,\n",
                "        repetition_penalty=5.0,\n",
                "        length_penalty=2.0,\n",
                "        early_stopping=True,\n",
                "    )\n",
                "\n",
                "    preds = [\n",
                "        tokenizer.decode(\n",
                "            gen_id, skip_special_tokens=True, clean_up_tokenization_spaces=True\n",
                "        )\n",
                "        for gen_id in generated_ids\n",
                "    ]\n",
                "\n",
                "    return \"\".join(preds)"
            ]
        },
        {
            "cell_type": "code",
            "execution_count": 23,
            "id": "dc1df9ab",
            "metadata": {},
            "outputs": [
                {
                    "name": "stdout",
                    "output_type": "stream",
                    "text": [
                        "Motion text:\n",
                        "--------------------------------------------------\n",
                        "I årets budgetproposition (bil. 10) föreslås att en processindustrilinje om 60 poäng förläggs till högskolan i Sundsvall/Härnösand. Universitets- och högskoleämbetet har också i sin informationsbroschyr om utbildningslinjer inom den yrkestekniska högskolan tagit upp nämnda linje. 1 både budgetpropositionen och informationsbroschyren framställs linjen så att den också skall vara inriktad mot pappers- och massaindustrin. En sådan utbildning finns emellertid redan vid Lunds universitet förlagd till\n",
                        "--------------------------------------------------\n",
                        "Actual title:\n",
                        "Verksamheten vid de yrkestekniska högskolorna i Markaryd och Sundsvall/Härnösand\n",
                        "--------------------------------------------------\n",
                        "Predicted title:\n",
                        "med anledning av prop. 2021/22:168 Ökad tillgång till spelmarknad\n",
                        "--------------------------------------------------\n"
                    ]
                }
            ],
            "source": [
                "def show_sample_pred(tokenizer):\n",
                "    sample_index = random.randint(0, len(dataset.data_test.data))\n",
                "    text = dataset.data_test.data[sample_index]\n",
                "    true_summary = dataset.data_test.targets[sample_index]\n",
                "    model_summary = summarize(\n",
                "        model=model,\n",
                "        text=text,\n",
                "        tokenizer=tokenizer,\n",
                "        text_max_num_tokens=512,\n",
                "        summary_max_num_tokens=64\n",
                "    )\n",
                "    print(\"Motion text:\")\n",
                "    print(50*\"-\")\n",
                "    print(text[:500])\n",
                "    print(50*\"-\")\n",
                "    print(\"Actual title:\")\n",
                "    print(true_summary)\n",
                "    print(50*\"-\")\n",
                "    print(\"Predicted title:\")\n",
                "    print(model_summary)\n",
                "    print(50*\"-\")\n",
                "\n",
                "show_sample_pred(lit_model.tokenizer)"
            ]
        }
    ],
    "metadata": {
        "kernelspec": {
            "display_name": "Python 3.9.12 ('swe-parl-mot-summarization')",
            "language": "python",
            "name": "python3"
        },
        "language_info": {
            "codemirror_mode": {
                "name": "ipython",
                "version": 3
            },
            "file_extension": ".py",
            "mimetype": "text/x-python",
            "name": "python",
            "nbconvert_exporter": "python",
            "pygments_lexer": "ipython3",
            "version": "3.9.13"
        },
        "vscode": {
            "interpreter": {
                "hash": "c8b4684d929b0e5f65a062924196a80e8ca5b6afcc06053ab7d36a264e586290"
            }
        }
    },
    "nbformat": 4,
    "nbformat_minor": 5
}
