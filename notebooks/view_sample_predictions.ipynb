{
    "cells": [
        {
            "cell_type": "markdown",
            "id": "a43587bf-8bc6-46ce-9345-fc1691e99498",
            "metadata": {},
            "source": [
                "# View sample predictions\n",
                "\n",
                "Trained model from checkpoint"
            ]
        },
        {
            "cell_type": "code",
            "execution_count": 7,
            "id": "c77d35f0-47b5-4f9c-bcb0-002049e5fdfe",
            "metadata": {},
            "outputs": [],
            "source": [
                "import random\n",
                "import sys\n",
                "import warnings\n",
                "\n",
                "import pandas as pd\n",
                "import yaml\n",
                "from transformers.models.mt5 import MT5Tokenizer\n",
                "\n",
                "sys.path.append('..')  # Allow import of project packages\n",
                "from motion_title_generator.data.motions_data_module import MotionsDataModule\n",
                "from motion_title_generator.models import t5\n",
                "from motion_title_generator.lit_models import MT5LitModel\n",
                "from utils.encode_decode import encode, generate\n",
                "\n",
                "warnings.filterwarnings('ignore')\n",
                "pd.set_option('display.max_colwidth', 500)\n",
                "\n",
                "BASE_PATH = \"../training/logs/lightning_logs/version_1/\"\n",
                "MODEL_PATH = BASE_PATH + \"checkpoints/epoch=009-val_loss=1.242.ckpt\"\n",
                "HPARAMS_PATH =  BASE_PATH + \"hparams.yaml\""
            ]
        },
        {
            "cell_type": "markdown",
            "id": "d3b188f8",
            "metadata": {},
            "source": [
                "### Load data"
            ]
        },
        {
            "cell_type": "code",
            "execution_count": 2,
            "id": "b850804a",
            "metadata": {},
            "outputs": [
                {
                    "name": "stderr",
                    "output_type": "stream",
                    "text": [
                        "INFO:Dowloading files from https://data.riksdagen.se.\n",
                        "100%|██████████| 1231/1231 [00:00<00:00, 41050.66it/s]\n",
                        "INFO:Loading data from /home/erik/proj/swedish_parliament_motion_summarization/data/downloaded/raw_swe_parl_mot.pkl into pandas dataframe.\n",
                        "INFO:Preprocessing data ...\n",
                        "INFO:Filtered 521 rows with missing values.\n",
                        "INFO:Filtered 7445 texts shorter than 150 characters.\n",
                        "INFO:Filtered 17004 texts based on their title.\n",
                        "INFO:Number of rows remaining: 145100\n",
                        "INFO:Preprocessed data saved to /home/erik/proj/swedish_parliament_motion_summarization/data/downloaded/prepped_training_data.feather\n",
                        "INFO:Using 145100 of 145100 examples.\n",
                        "INFO:Data split sizes -- train: 108825, val: 21765, test: 14510\n"
                    ]
                },
                {
                    "name": "stdout",
                    "output_type": "stream",
                    "text": [
                        "<motion_title_generator.data.motions_data_module.MotionsDataModule object at 0x7f37997e8a60>\n"
                    ]
                }
            ],
            "source": [
                "# Load pytorch-lightning experiment args\n",
                "with open(HPARAMS_PATH, \"r\") as hparams_file:\n",
                "   lightning_config = yaml.load(hparams_file, Loader=yaml.Loader)\n",
                "\n",
                "dataset = MotionsDataModule(lightning_config)\n",
                "dataset.prepare_data()\n",
                "dataset.setup()\n",
                "print(dataset)"
            ]
        },
        {
            "cell_type": "markdown",
            "id": "61f80921",
            "metadata": {},
            "source": [
                "### Load model"
            ]
        },
        {
            "cell_type": "code",
            "execution_count": 3,
            "id": "c1dfec9b",
            "metadata": {},
            "outputs": [
                {
                    "name": "stderr",
                    "output_type": "stream",
                    "text": [
                        "Lightning automatically upgraded your loaded checkpoint from v1.6.4 to v2.0.4. To apply the upgrade to your files permanently, run `python -m lightning.pytorch.utilities.upgrade_checkpoint --file ../training/logs/lightning_logs/version_1/checkpoints/epoch=009-val_loss=1.242.ckpt`\n"
                    ]
                }
            ],
            "source": [
                "# Instanciate model to pass to lit_model\n",
                "model = t5.MT5(data_config={}, args=lightning_config)\n",
                "\n",
                "lit_model = MT5LitModel.load_from_checkpoint(\n",
                "    checkpoint_path=MODEL_PATH,\n",
                "    model=model,\n",
                ")\n",
                "lit_model.eval()\n",
                "\n",
                "tokenizer = MT5Tokenizer.from_pretrained(model.model_name)"
            ]
        },
        {
            "attachments": {},
            "cell_type": "markdown",
            "id": "f636e6ba",
            "metadata": {},
            "source": [
                "### Generate title"
            ]
        },
        {
            "cell_type": "code",
            "execution_count": 4,
            "id": "8b09fd5e",
            "metadata": {},
            "outputs": [],
            "source": [
                "def summarize(model, text, tokenizer, text_max_num_tokens, title_max_num_tokens):\n",
                "    model.model.to(\"cpu\")\n",
                "    text_encoding = encode(text, tokenizer, text_max_num_tokens)\n",
                "    return generate(model.model, tokenizer, text_encoding, title_max_num_tokens)"
            ]
        },
        {
            "cell_type": "code",
            "execution_count": 8,
            "id": "dc1df9ab",
            "metadata": {},
            "outputs": [
                {
                    "name": "stdout",
                    "output_type": "stream",
                    "text": [
                        "Motion text:\n",
                        "--------------------------------------------------\n",
                        "I delgivningskungörelsen den 29 juni 1970 anges i 4 § att de myndigheter som finns upptagna i bilaga 2 till kungörelsen får anlita postverket för särskild postdelgivning. I förteckningen finns övervakningsnämnd icke angiven, och nämnden saknar således möjlighet att använda särskild postdelgivning. Övervakningsnämnds arbete skulle underlättas och effektiviteten avsevärt öka, om nämnden ägde rätt att i ärende som den handlägger delge den dömde medelst särskild postdelgivning. Med hänvisning till d\n",
                        "--------------------------------------------------\n",
                        "Actual title:\n",
                        "om rätt för övervakningsnämnd att anlita postverket för särskild postdelgivning.\n",
                        "--------------------------------------------------\n",
                        "Predicted title:\n",
                        "angående postverket för särskild postdelgivning.\n",
                        "--------------------------------------------------\n"
                    ]
                }
            ],
            "source": [
                "def show_sample_pred(tokenizer):\n",
                "    sample_index = random.randint(0, len(dataset.data_test.data))\n",
                "    text = dataset.data_test.data[sample_index]\n",
                "    true_summary = dataset.data_test.targets[sample_index]\n",
                "    \n",
                "    model_summary = summarize(\n",
                "        model=model,\n",
                "        text=text,\n",
                "        tokenizer=tokenizer,\n",
                "        text_max_num_tokens=512,\n",
                "        title_max_num_tokens=64\n",
                "    )\n",
                "    print(\"Motion text:\")\n",
                "    print(50*\"-\")\n",
                "    print(text[:500])\n",
                "    print(50*\"-\")\n",
                "    print(\"Actual title:\")\n",
                "    print(true_summary)\n",
                "    print(50*\"-\")\n",
                "    print(\"Predicted title:\")\n",
                "    print(model_summary)\n",
                "    print(50*\"-\")\n",
                "\n",
                "show_sample_pred(lit_model.tokenizer)"
            ]
        }
    ],
    "metadata": {
        "kernelspec": {
            "display_name": "Python 3.9.12 ('swe-parl-mot-summarization')",
            "language": "python",
            "name": "python3"
        },
        "language_info": {
            "codemirror_mode": {
                "name": "ipython",
                "version": 3
            },
            "file_extension": ".py",
            "mimetype": "text/x-python",
            "name": "python",
            "nbconvert_exporter": "python",
            "pygments_lexer": "ipython3",
            "version": "3.9.13"
        },
        "vscode": {
            "interpreter": {
                "hash": "c8b4684d929b0e5f65a062924196a80e8ca5b6afcc06053ab7d36a264e586290"
            }
        }
    },
    "nbformat": 4,
    "nbformat_minor": 5
}
